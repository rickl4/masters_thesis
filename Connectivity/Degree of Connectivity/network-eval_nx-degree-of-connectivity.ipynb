{
 "cells": [
  {
   "cell_type": "code",
   "execution_count": 1,
   "metadata": {},
   "outputs": [],
   "source": [
    "import networkx as nx\n",
    "import pandas as pd\n",
    "import numpy as np\n",
    "from scipy import stats\n",
    "import statistics\n",
    "import itertools\n",
    "import geopandas as gpd"
   ]
  },
  {
   "cell_type": "code",
   "execution_count": 8,
   "metadata": {},
   "outputs": [],
   "source": [
    "simplify_dir = '/Volumes/Data2/RST/notebook/GTFS/TTC_2016-10-03/GIS Simplify/'\n",
    "gtfs_dir = '/Volumes/Data2/RST/notebook/GTFS/TTC_2016-10-03/'"
   ]
  },
  {
   "cell_type": "code",
   "execution_count": 9,
   "metadata": {},
   "outputs": [],
   "source": [
    "# simplify_dir = 'D:/RST/RST/notebook/GTFS/TTC_2016-10-03/GIS Simplify/'\n",
    "\n",
    "# gtfs_dir = 'D:/RST/notebook/GTFS/TTC_2016-10-03/'"
   ]
  },
  {
   "cell_type": "code",
   "execution_count": 10,
   "metadata": {},
   "outputs": [],
   "source": [
    "ward = gpd.read_file('/Volumes/Data2/RST/notebook/GIS/wards_no-island.geojson')\n",
    "\n",
    "ward = ward[['AREA_SHORT_CODE', 'geometry']]\n",
    "ward = ward.to_crs('epsg:26917')\n",
    "ward['area'] = ward['geometry'].area/1000000\n",
    "\n",
    "ward = ward.rename(columns = {'AREA_SHORT_CODE':'ward'})"
   ]
  },
  {
   "cell_type": "code",
   "execution_count": 11,
   "metadata": {},
   "outputs": [],
   "source": [
    "ward_int = pd.read_csv('/Volumes/Data2/RST/notebook/GIS/int_wards.csv')\n",
    "\n",
    "#ward_int = pd.read_csv('D:/RST/notebook/GIS/int_wards.csv')\n",
    "\n",
    "ward_int['INT_ID_STR'] = ward_int['INT_ID'].astype(str)"
   ]
  },
  {
   "cell_type": "code",
   "execution_count": 13,
   "metadata": {},
   "outputs": [],
   "source": [
    "# G = nx.read_gexf('D:/RST/notebook/networks/' + period +'-RM-16-singleDi.gexf')\n",
    "# graph_data = pd.read_csv('D:/RST/notebook/networks/' + period +'-RM-16-singleDi.csv')\n",
    "\n",
    "stop_times_od = pd.read_csv(gtfs_dir + 'stop_times_full.csv')"
   ]
  },
  {
   "cell_type": "code",
   "execution_count": 56,
   "metadata": {},
   "outputs": [],
   "source": [
    "df_list = []\n",
    "\n",
    "period_list = [['EM', [3,4]], ['AM', [7,8]], ['MD', [11,12]], ['PM', [16,17]], ['EV', [20,21]]]\n",
    "\n",
    "for i in period_list:\n",
    "\n",
    "    period = i[0]\n",
    "    period_list = i[1]\n",
    "\n",
    "\n",
    "    G = nx.read_gexf('/Volumes/Data2/RST/notebook/networks/' + period +'-RM-16.gexf')\n",
    "    graph_data = pd.read_csv('/Volumes/Data2/RST/notebook/networks/' + period +'-RM-16.csv')\n",
    "\n",
    "    route_dir = stop_times_od[stop_times_od['hr_o'].isin(period_list)]\n",
    "    route_dir = route_dir[['INT_ID_o', 'INT_ID_d', 'route_short_name']].drop_duplicates()\n",
    "\n",
    "    route_dir = route_dir.append(route_dir.rename(columns = {'INT_ID_o':'INT_ID_d', 'INT_ID_d':'INT_ID_o'})[['INT_ID_o', \n",
    "                                                                                'INT_ID_d', 'route_short_name']])\n",
    "\n",
    "    route_dir = route_dir.drop_duplicates()\n",
    "\n",
    "\n",
    "    route_dir = route_dir.groupby(['INT_ID_o', 'INT_ID_d'])['route_short_name'].apply(list).reset_index()\n",
    "    route_dir = route_dir.merge(graph_data)\n",
    "\n",
    "    for ward in range(1,26,1):\n",
    "\n",
    "        ints_in_ward = list(ward_int[ward_int['AREA_SHORT_CODE'] == ward]['INT_ID'])\n",
    "        not_in_ward = list(ward_int[ward_int['AREA_SHORT_CODE'] != ward]['INT_ID_STR'])\n",
    "\n",
    "        G_ward = G.copy()\n",
    "\n",
    "        G_ward.remove_nodes_from(not_in_ward)\n",
    "\n",
    "        route_dir_ward = route_dir[route_dir['INT_ID_o'].isin(ints_in_ward)]\n",
    "        route_dir_ward = route_dir_ward[route_dir_ward['INT_ID_d'].isin(ints_in_ward)]\n",
    "\n",
    "        EF = route_dir_ward['scaled_freq'].sum()\n",
    "        ES = len(list(G_ward.edges()))\n",
    "        V = len(list(G_ward.nodes()))\n",
    "\n",
    "        gamma = EF * (ES/(3 * (V-2)))\n",
    "\n",
    "        df_list.append([ward, EF, ES, V, gamma, period])"
   ]
  },
  {
   "cell_type": "code",
   "execution_count": 58,
   "metadata": {},
   "outputs": [],
   "source": [
    "pd.DataFrame.from_records(df_list, columns = ['ward', 'ef', 'es', 'v', 'gamma', 'period']).to_csv(\n",
    "    'degree-of-connectivity.csv', index = False)"
   ]
  },
  {
   "cell_type": "code",
   "execution_count": null,
   "metadata": {},
   "outputs": [],
   "source": []
  }
 ],
 "metadata": {
  "kernelspec": {
   "display_name": "Python 3",
   "language": "python",
   "name": "python3"
  },
  "language_info": {
   "codemirror_mode": {
    "name": "ipython",
    "version": 3
   },
   "file_extension": ".py",
   "mimetype": "text/x-python",
   "name": "python",
   "nbconvert_exporter": "python",
   "pygments_lexer": "ipython3",
   "version": "3.7.6"
  }
 },
 "nbformat": 4,
 "nbformat_minor": 4
}
