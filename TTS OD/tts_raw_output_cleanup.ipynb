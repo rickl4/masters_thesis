{
 "cells": [
  {
   "cell_type": "code",
   "execution_count": 109,
   "metadata": {},
   "outputs": [],
   "source": [
    "import pandas as pd\n",
    "import re\n",
    "import os"
   ]
  },
  {
   "cell_type": "code",
   "execution_count": 110,
   "metadata": {},
   "outputs": [],
   "source": [
    "dir_list = []\n",
    "for file in os.listdir():\n",
    "    if file.split('_')[0] =='raw-tts':\n",
    "        dir_list.append(file)"
   ]
  },
  {
   "cell_type": "code",
   "execution_count": 111,
   "metadata": {},
   "outputs": [
    {
     "data": {
      "text/plain": [
       "['raw-tts_EM-m.txt',\n",
       " 'raw-tts_EM-f.txt',\n",
       " 'raw-tts_EV-m.txt',\n",
       " 'raw-tts_AM-f.txt',\n",
       " 'raw-tts_AM-m.txt',\n",
       " 'raw-tts_MD-m.txt',\n",
       " 'raw-tts_MD-f.txt',\n",
       " 'raw-tts_PM-f.txt',\n",
       " 'raw-tts_PM-m.txt',\n",
       " 'raw-tts_EV-f.txt',\n",
       " 'raw-tts_c0.txt']"
      ]
     },
     "execution_count": 111,
     "metadata": {},
     "output_type": "execute_result"
    }
   ],
   "source": [
    "dir_list"
   ]
  },
  {
   "cell_type": "code",
   "execution_count": 112,
   "metadata": {},
   "outputs": [],
   "source": [
    "table = []\n",
    "for filename in dir_list:\n",
    "\n",
    "\n",
    "    file = open(filename, 'r').read().split('\\n')[24:]\n",
    "    name_list = re.split('[._-]',filename)\n",
    "    gender = name_list[3]\n",
    "    period = name_list[2]\n",
    "    \n",
    "    for row in file:\n",
    "\n",
    "        if row[0:5] == 'TABLE':\n",
    "            hh = int(re.split('[()]', row)[-2])\n",
    "        elif row == '':\n",
    "            continue\n",
    "        elif row == '  gta06_orig  gta06_dest      total':\n",
    "            continue\n",
    "        else:\n",
    "            parsed_row = row.split()\n",
    "            parsed_row.append(hh)\n",
    "            parsed_row.append(gender)\n",
    "            parsed_row.append(period)\n",
    "            table.append(parsed_row)"
   ]
  },
  {
   "cell_type": "code",
   "execution_count": 113,
   "metadata": {},
   "outputs": [],
   "source": [
    "df = pd.DataFrame.from_records(table, columns = ['o_node', 'd_node', 'total', 'hh', 'gender', 'period'])\n",
    "df['o_node'] = df['o_node'].astype(int)\n",
    "df['d_node'] = df['d_node'].astype(int)\n",
    "df['total'] = df['total'].astype(int)"
   ]
  },
  {
   "cell_type": "code",
   "execution_count": 114,
   "metadata": {},
   "outputs": [],
   "source": [
    "df.to_csv('tts_od_hh_cleaned.csv', index = False)"
   ]
  },
  {
   "cell_type": "code",
   "execution_count": null,
   "metadata": {},
   "outputs": [],
   "source": []
  }
 ],
 "metadata": {
  "kernelspec": {
   "display_name": "Python 3",
   "language": "python",
   "name": "python3"
  },
  "language_info": {
   "codemirror_mode": {
    "name": "ipython",
    "version": 3
   },
   "file_extension": ".py",
   "mimetype": "text/x-python",
   "name": "python",
   "nbconvert_exporter": "python",
   "pygments_lexer": "ipython3",
   "version": "3.7.6"
  }
 },
 "nbformat": 4,
 "nbformat_minor": 4
}
