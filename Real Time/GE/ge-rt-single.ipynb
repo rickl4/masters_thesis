{
 "cells": [
  {
   "cell_type": "code",
   "execution_count": 1,
   "id": "d92f7bd4",
   "metadata": {},
   "outputs": [],
   "source": [
    "import pandas as pd\n",
    "import igraph\n",
    "import datetime\n",
    "import random\n",
    "import csv"
   ]
  },
  {
   "cell_type": "code",
   "execution_count": 3,
   "id": "f4902627",
   "metadata": {},
   "outputs": [],
   "source": [
    "networks = '/Volumes/Data2/RST/notebook/Real Time/networks/'"
   ]
  },
  {
   "cell_type": "code",
   "execution_count": 4,
   "id": "a6041ad1",
   "metadata": {},
   "outputs": [],
   "source": [
    "period = 'AM'"
   ]
  },
  {
   "cell_type": "code",
   "execution_count": 7,
   "id": "732b0aec",
   "metadata": {},
   "outputs": [],
   "source": [
    "od_data = pd.read_csv('/Volumes/Data2/RST/notebook/TTS OD/TTS_TYPE.csv')\n",
    "od_data['destination'] = od_data['destination'] + 1000\n",
    "od_data['origin'] = od_data['origin'] + 1000"
   ]
  },
  {
   "cell_type": "code",
   "execution_count": 76,
   "id": "1dffa696",
   "metadata": {},
   "outputs": [],
   "source": [
    "# G = igraph.Graph.Read_GraphML(f = networks + 'scheduled/2019-11-14_' + period + '.graphml')\n",
    "#G = igraph.Graph.Read_GraphML(f = '/Volumes/Data2/RST/notebook/networks/' + period + '-TE-16-8.graphml') \n",
    "\n",
    "#G = igraph.Graph.Read_GraphML(f = networks + '2019-12-02_' + period + '.graphml')\n",
    "\n",
    "G = igraph.Graph.Read_GraphML(f = networks + '2019-11-28_' + period + '.graphml')"
   ]
  },
  {
   "cell_type": "code",
   "execution_count": 77,
   "id": "596f2a3d",
   "metadata": {},
   "outputs": [],
   "source": [
    "if period == 'EM':\n",
    "    depart_hour = '-4-'\n",
    "    tts_type = 'raw_em'\n",
    "if period == 'AM':\n",
    "    depart_hour = '-7-'\n",
    "    tts_type = 'raw_am'\n",
    "elif period =='PM':\n",
    "    depart_hour = '-17-'\n",
    "    tts_type = 'raw_pm'\n",
    "elif period =='MD':\n",
    "    depart_hour = '-11-'\n",
    "    tts_type = 'raw_md'\n",
    "elif period =='EV':\n",
    "    depart_hour = '-20-'\n",
    "    tts_type = 'raw_ev'"
   ]
  },
  {
   "cell_type": "code",
   "execution_count": 78,
   "id": "31fbb98e",
   "metadata": {},
   "outputs": [],
   "source": [
    "num_int = 1"
   ]
  },
  {
   "cell_type": "code",
   "execution_count": 79,
   "id": "c7c50dbf",
   "metadata": {},
   "outputs": [],
   "source": [
    "minute = random.randint(0,9)\n",
    "minute = minute + num_int * 10\n",
    "rand_time = depart_hour + str(minute)"
   ]
  },
  {
   "cell_type": "code",
   "execution_count": 80,
   "id": "fae033bb",
   "metadata": {},
   "outputs": [],
   "source": [
    "node_data = od_data[od_data['type'] == tts_type][['origin', 'destination']].copy()\n",
    "node_data['origin'] = node_data['origin'].astype(str)\n",
    "node_data['destination'] = node_data['destination'].astype(str)\n",
    "\n",
    "node_data['o_node'] = node_data['origin'] + '-0' + rand_time\n",
    "\n",
    "\n",
    "node_data['d_node'] = node_data['destination'] + '-0-99-99'\n",
    "node_data = node_data.reset_index()"
   ]
  },
  {
   "cell_type": "code",
   "execution_count": 81,
   "id": "56813725",
   "metadata": {},
   "outputs": [],
   "source": [
    "node_key_table = []\n",
    "\n",
    "for i in G.vs:\n",
    "    node_key_table.append([i.index,  i['id']])\n",
    "node_df_new = pd.DataFrame.from_records(node_key_table, columns = ['index', 'node_id'])\n",
    "\n",
    "node_df_new['INT_ID'] = node_df_new['node_id'].str.split('-', expand = True)[0].astype(int)"
   ]
  },
  {
   "cell_type": "code",
   "execution_count": 82,
   "id": "1a4f4005",
   "metadata": {},
   "outputs": [
    {
     "data": {
      "text/html": [
       "<div>\n",
       "<style scoped>\n",
       "    .dataframe tbody tr th:only-of-type {\n",
       "        vertical-align: middle;\n",
       "    }\n",
       "\n",
       "    .dataframe tbody tr th {\n",
       "        vertical-align: top;\n",
       "    }\n",
       "\n",
       "    .dataframe thead th {\n",
       "        text-align: right;\n",
       "    }\n",
       "</style>\n",
       "<table border=\"1\" class=\"dataframe\">\n",
       "  <thead>\n",
       "    <tr style=\"text-align: right;\">\n",
       "      <th></th>\n",
       "      <th>index</th>\n",
       "      <th>node_id</th>\n",
       "      <th>INT_ID</th>\n",
       "    </tr>\n",
       "  </thead>\n",
       "  <tbody>\n",
       "    <tr>\n",
       "      <th>0</th>\n",
       "      <td>0</td>\n",
       "      <td>13445821-0-7-0</td>\n",
       "      <td>13445821</td>\n",
       "    </tr>\n",
       "    <tr>\n",
       "      <th>1</th>\n",
       "      <td>1</td>\n",
       "      <td>13445821-0-7-1</td>\n",
       "      <td>13445821</td>\n",
       "    </tr>\n",
       "    <tr>\n",
       "      <th>2</th>\n",
       "      <td>2</td>\n",
       "      <td>13445821-0-7-2</td>\n",
       "      <td>13445821</td>\n",
       "    </tr>\n",
       "    <tr>\n",
       "      <th>3</th>\n",
       "      <td>3</td>\n",
       "      <td>13445821-0-7-3</td>\n",
       "      <td>13445821</td>\n",
       "    </tr>\n",
       "    <tr>\n",
       "      <th>4</th>\n",
       "      <td>4</td>\n",
       "      <td>13445821-0-7-4</td>\n",
       "      <td>13445821</td>\n",
       "    </tr>\n",
       "    <tr>\n",
       "      <th>...</th>\n",
       "      <td>...</td>\n",
       "      <td>...</td>\n",
       "      <td>...</td>\n",
       "    </tr>\n",
       "    <tr>\n",
       "      <th>1518196</th>\n",
       "      <td>1518196</td>\n",
       "      <td>13465966-0-11-55</td>\n",
       "      <td>13465966</td>\n",
       "    </tr>\n",
       "    <tr>\n",
       "      <th>1518197</th>\n",
       "      <td>1518197</td>\n",
       "      <td>13465966-0-11-56</td>\n",
       "      <td>13465966</td>\n",
       "    </tr>\n",
       "    <tr>\n",
       "      <th>1518198</th>\n",
       "      <td>1518198</td>\n",
       "      <td>13465966-0-11-57</td>\n",
       "      <td>13465966</td>\n",
       "    </tr>\n",
       "    <tr>\n",
       "      <th>1518199</th>\n",
       "      <td>1518199</td>\n",
       "      <td>13465966-0-11-58</td>\n",
       "      <td>13465966</td>\n",
       "    </tr>\n",
       "    <tr>\n",
       "      <th>1518200</th>\n",
       "      <td>1518200</td>\n",
       "      <td>13465966-0-11-59</td>\n",
       "      <td>13465966</td>\n",
       "    </tr>\n",
       "  </tbody>\n",
       "</table>\n",
       "<p>1518201 rows × 3 columns</p>\n",
       "</div>"
      ],
      "text/plain": [
       "           index           node_id    INT_ID\n",
       "0              0    13445821-0-7-0  13445821\n",
       "1              1    13445821-0-7-1  13445821\n",
       "2              2    13445821-0-7-2  13445821\n",
       "3              3    13445821-0-7-3  13445821\n",
       "4              4    13445821-0-7-4  13445821\n",
       "...          ...               ...       ...\n",
       "1518196  1518196  13465966-0-11-55  13465966\n",
       "1518197  1518197  13465966-0-11-56  13465966\n",
       "1518198  1518198  13465966-0-11-57  13465966\n",
       "1518199  1518199  13465966-0-11-58  13465966\n",
       "1518200  1518200  13465966-0-11-59  13465966\n",
       "\n",
       "[1518201 rows x 3 columns]"
      ]
     },
     "execution_count": 82,
     "metadata": {},
     "output_type": "execute_result"
    }
   ],
   "source": [
    "node_df_new"
   ]
  },
  {
   "cell_type": "code",
   "execution_count": 83,
   "id": "115bfbfe",
   "metadata": {},
   "outputs": [],
   "source": [
    "o_list_new = list(node_df_new[node_df_new['node_id'].isin(node_data['o_node'])]['index'])\n",
    "d_list_new = list(node_df_new[node_df_new['node_id'].isin(node_data['d_node'])]['index'])"
   ]
  },
  {
   "cell_type": "code",
   "execution_count": 85,
   "id": "a2166818",
   "metadata": {},
   "outputs": [],
   "source": [
    "out_all = G.shortest_paths(o_list_new, d_list_new, weights = 'cost',  mode = 'out')"
   ]
  },
  {
   "cell_type": "code",
   "execution_count": 86,
   "id": "1a40eba9",
   "metadata": {},
   "outputs": [],
   "source": [
    "table = []\n",
    "for i in range(len(o_list_new)):\n",
    "    temp_lst = out_all[i]\n",
    "    for j in range(len(d_list_new)):\n",
    "        table.append([o_list_new[i], d_list_new[j], temp_lst[j]])"
   ]
  },
  {
   "cell_type": "code",
   "execution_count": 87,
   "id": "da71689b",
   "metadata": {},
   "outputs": [],
   "source": [
    "temp_df = pd.DataFrame.from_records(table, columns = ['index_o', 'index_d', 'travel_time'])\n",
    "temp_df = temp_df.merge(node_df_new[['node_id', 'index', 'INT_ID']], left_on = ['index_o'], right_on = ['index'])\n",
    "temp_df = temp_df.rename(columns = {'node_id':'o_node', 'INT_ID':'origin'})[['o_node', 'index_d', 'origin','travel_time']]\n",
    "temp_df = temp_df.merge(node_df_new[['node_id', 'index','INT_ID']], left_on = ['index_d'], right_on = ['index'])\n",
    "temp_df = temp_df.rename(columns = {'node_id':'d_node','INT_ID':'destination'})[['o_node', 'd_node', 'origin','destination','travel_time']]\n",
    "temp_df = temp_df.merge(node_data[['o_node', 'd_node']])\n",
    "temp_df = temp_df[temp_df['origin'] != temp_df['destination']]"
   ]
  },
  {
   "cell_type": "code",
   "execution_count": 88,
   "id": "796a5eaa",
   "metadata": {},
   "outputs": [],
   "source": [
    "#temp_df_1 = temp_df"
   ]
  },
  {
   "cell_type": "code",
   "execution_count": 89,
   "id": "a7a964b1",
   "metadata": {},
   "outputs": [],
   "source": [
    "#temp_df16 = temp_df"
   ]
  },
  {
   "cell_type": "code",
   "execution_count": 90,
   "id": "4156025b",
   "metadata": {},
   "outputs": [],
   "source": [
    "#temp_df_19_2 = temp_df"
   ]
  },
  {
   "cell_type": "code",
   "execution_count": 91,
   "id": "4de17a5d",
   "metadata": {},
   "outputs": [],
   "source": [
    "temp_df_1128 = temp_df"
   ]
  },
  {
   "cell_type": "code",
   "execution_count": 64,
   "id": "9d71922c",
   "metadata": {},
   "outputs": [],
   "source": [
    "# temp_df16 = temp_df16.rename(columns = {'travel_time':'travel_time16'})\n",
    "# temp_df_1 = temp_df_1.rename(columns = {'travel_time':'travel_time19'})\n",
    "# temp_df_19_2 = temp_df_19_2.rename(columns = {'travel_time':'travel_time19-02'})"
   ]
  },
  {
   "cell_type": "code",
   "execution_count": 72,
   "id": "17b1568d",
   "metadata": {},
   "outputs": [],
   "source": [
    "# compare = temp_df16[['origin', 'destination', 'travel_time16']].merge(temp_df_1[['origin', 'destination', 'travel_time19']]\n",
    "#                                                            ).merge(temp_df_19_2[['origin', 'destination', 'travel_time19-02']])"
   ]
  },
  {
   "cell_type": "code",
   "execution_count": 92,
   "id": "7b153744",
   "metadata": {},
   "outputs": [],
   "source": [
    "temp_df_1128 = temp_df_1128.rename(columns = {'travel_time':'travel_time19-28'})\n",
    "\n",
    "compare = compare.merge(temp_df_1128[['origin', 'destination', 'travel_time19-28']])"
   ]
  },
  {
   "cell_type": "code",
   "execution_count": 93,
   "id": "edb30de6",
   "metadata": {},
   "outputs": [
    {
     "data": {
      "text/plain": [
       "origin              9723931.0\n",
       "destination         8778424.0\n",
       "travel_time16        401217.0\n",
       "travel_time19        405706.0\n",
       "travel_time19-02     532320.0\n",
       "travel_time19-28     460162.0\n",
       "dtype: float64"
      ]
     },
     "execution_count": 93,
     "metadata": {},
     "output_type": "execute_result"
    }
   ],
   "source": [
    "compare.sum()"
   ]
  },
  {
   "cell_type": "code",
   "execution_count": 94,
   "id": "f8465bad",
   "metadata": {},
   "outputs": [
    {
     "data": {
      "text/html": [
       "<div>\n",
       "<style scoped>\n",
       "    .dataframe tbody tr th:only-of-type {\n",
       "        vertical-align: middle;\n",
       "    }\n",
       "\n",
       "    .dataframe tbody tr th {\n",
       "        vertical-align: top;\n",
       "    }\n",
       "\n",
       "    .dataframe thead th {\n",
       "        text-align: right;\n",
       "    }\n",
       "</style>\n",
       "<table border=\"1\" class=\"dataframe\">\n",
       "  <thead>\n",
       "    <tr style=\"text-align: right;\">\n",
       "      <th></th>\n",
       "      <th>origin</th>\n",
       "      <th>destination</th>\n",
       "      <th>travel_time16</th>\n",
       "      <th>travel_time19</th>\n",
       "      <th>travel_time19-02</th>\n",
       "      <th>travel_time19-28</th>\n",
       "    </tr>\n",
       "  </thead>\n",
       "  <tbody>\n",
       "    <tr>\n",
       "      <th>0</th>\n",
       "      <td>1250</td>\n",
       "      <td>1001</td>\n",
       "      <td>41.0</td>\n",
       "      <td>38.0</td>\n",
       "      <td>43.0</td>\n",
       "      <td>40.0</td>\n",
       "    </tr>\n",
       "    <tr>\n",
       "      <th>1</th>\n",
       "      <td>1540</td>\n",
       "      <td>1001</td>\n",
       "      <td>29.0</td>\n",
       "      <td>27.0</td>\n",
       "      <td>31.0</td>\n",
       "      <td>30.0</td>\n",
       "    </tr>\n",
       "    <tr>\n",
       "      <th>2</th>\n",
       "      <td>1211</td>\n",
       "      <td>1003</td>\n",
       "      <td>62.0</td>\n",
       "      <td>71.0</td>\n",
       "      <td>74.0</td>\n",
       "      <td>77.0</td>\n",
       "    </tr>\n",
       "    <tr>\n",
       "      <th>3</th>\n",
       "      <td>1534</td>\n",
       "      <td>1003</td>\n",
       "      <td>54.0</td>\n",
       "      <td>48.0</td>\n",
       "      <td>89.0</td>\n",
       "      <td>62.0</td>\n",
       "    </tr>\n",
       "    <tr>\n",
       "      <th>4</th>\n",
       "      <td>1105</td>\n",
       "      <td>1004</td>\n",
       "      <td>56.0</td>\n",
       "      <td>55.0</td>\n",
       "      <td>78.0</td>\n",
       "      <td>72.0</td>\n",
       "    </tr>\n",
       "    <tr>\n",
       "      <th>...</th>\n",
       "      <td>...</td>\n",
       "      <td>...</td>\n",
       "      <td>...</td>\n",
       "      <td>...</td>\n",
       "      <td>...</td>\n",
       "      <td>...</td>\n",
       "    </tr>\n",
       "    <tr>\n",
       "      <th>7433</th>\n",
       "      <td>1397</td>\n",
       "      <td>1007</td>\n",
       "      <td>132.0</td>\n",
       "      <td>134.0</td>\n",
       "      <td>172.0</td>\n",
       "      <td>163.0</td>\n",
       "    </tr>\n",
       "    <tr>\n",
       "      <th>7434</th>\n",
       "      <td>1100</td>\n",
       "      <td>1081</td>\n",
       "      <td>44.0</td>\n",
       "      <td>45.0</td>\n",
       "      <td>50.0</td>\n",
       "      <td>45.0</td>\n",
       "    </tr>\n",
       "    <tr>\n",
       "      <th>7435</th>\n",
       "      <td>1211</td>\n",
       "      <td>1081</td>\n",
       "      <td>49.0</td>\n",
       "      <td>52.0</td>\n",
       "      <td>54.0</td>\n",
       "      <td>52.0</td>\n",
       "    </tr>\n",
       "    <tr>\n",
       "      <th>7436</th>\n",
       "      <td>1423</td>\n",
       "      <td>1081</td>\n",
       "      <td>49.0</td>\n",
       "      <td>51.0</td>\n",
       "      <td>58.0</td>\n",
       "      <td>47.0</td>\n",
       "    </tr>\n",
       "    <tr>\n",
       "      <th>7437</th>\n",
       "      <td>1467</td>\n",
       "      <td>1081</td>\n",
       "      <td>73.0</td>\n",
       "      <td>72.0</td>\n",
       "      <td>84.0</td>\n",
       "      <td>80.0</td>\n",
       "    </tr>\n",
       "  </tbody>\n",
       "</table>\n",
       "<p>7438 rows × 6 columns</p>\n",
       "</div>"
      ],
      "text/plain": [
       "      origin  destination  travel_time16  travel_time19  travel_time19-02  \\\n",
       "0       1250         1001           41.0           38.0              43.0   \n",
       "1       1540         1001           29.0           27.0              31.0   \n",
       "2       1211         1003           62.0           71.0              74.0   \n",
       "3       1534         1003           54.0           48.0              89.0   \n",
       "4       1105         1004           56.0           55.0              78.0   \n",
       "...      ...          ...            ...            ...               ...   \n",
       "7433    1397         1007          132.0          134.0             172.0   \n",
       "7434    1100         1081           44.0           45.0              50.0   \n",
       "7435    1211         1081           49.0           52.0              54.0   \n",
       "7436    1423         1081           49.0           51.0              58.0   \n",
       "7437    1467         1081           73.0           72.0              84.0   \n",
       "\n",
       "      travel_time19-28  \n",
       "0                 40.0  \n",
       "1                 30.0  \n",
       "2                 77.0  \n",
       "3                 62.0  \n",
       "4                 72.0  \n",
       "...                ...  \n",
       "7433             163.0  \n",
       "7434              45.0  \n",
       "7435              52.0  \n",
       "7436              47.0  \n",
       "7437              80.0  \n",
       "\n",
       "[7438 rows x 6 columns]"
      ]
     },
     "execution_count": 94,
     "metadata": {},
     "output_type": "execute_result"
    }
   ],
   "source": [
    "compare"
   ]
  },
  {
   "cell_type": "code",
   "execution_count": null,
   "id": "c4d5d029",
   "metadata": {},
   "outputs": [],
   "source": []
  }
 ],
 "metadata": {
  "kernelspec": {
   "display_name": "Python 3 (ipykernel)",
   "language": "python",
   "name": "python3"
  },
  "language_info": {
   "codemirror_mode": {
    "name": "ipython",
    "version": 3
   },
   "file_extension": ".py",
   "mimetype": "text/x-python",
   "name": "python",
   "nbconvert_exporter": "python",
   "pygments_lexer": "ipython3",
   "version": "3.9.7"
  }
 },
 "nbformat": 4,
 "nbformat_minor": 5
}
