{
 "cells": [
  {
   "cell_type": "code",
   "execution_count": 19,
   "id": "8a14bf19",
   "metadata": {},
   "outputs": [],
   "source": [
    "import pandas as pd\n",
    "import datetime\n",
    "import numpy as np"
   ]
  },
  {
   "cell_type": "code",
   "execution_count": 20,
   "id": "6bd3c6d0",
   "metadata": {},
   "outputs": [],
   "source": [
    "raw = pd.read_csv('scarborough_raw.csv')"
   ]
  },
  {
   "cell_type": "code",
   "execution_count": 21,
   "id": "5d9d4e9b",
   "metadata": {},
   "outputs": [],
   "source": [
    "raw['platform1_end_time'] = pd.DatetimeIndex(raw['platform1_end_time'], tz = 'UTC').tz_convert('America/Toronto')\n",
    "\n",
    "raw['platform2_start_time'] = pd.DatetimeIndex(raw['platform2_start_time'], tz = 'UTC').tz_convert('America/Toronto')\n"
   ]
  },
  {
   "cell_type": "code",
   "execution_count": 22,
   "id": "910de882",
   "metadata": {},
   "outputs": [],
   "source": [
    "raw['hour'] = raw['platform1_end_time'].dt.hour"
   ]
  },
  {
   "cell_type": "code",
   "execution_count": 23,
   "id": "46032461",
   "metadata": {},
   "outputs": [],
   "source": [
    "raw['date'] = np.where(raw['hour'].isin([0,1,2]), (raw['platform1_end_time'].dt.date - \n",
    "                                                   datetime.timedelta(days = 1)).astype(str), \n",
    "                       raw['platform1_end_time'].dt.date.astype(str))"
   ]
  },
  {
   "cell_type": "code",
   "execution_count": 24,
   "id": "9e94f60e",
   "metadata": {},
   "outputs": [],
   "source": [
    "raw['dow'] = pd.to_datetime(raw['date']).dt.weekday"
   ]
  },
  {
   "cell_type": "code",
   "execution_count": 25,
   "id": "38259dcf",
   "metadata": {},
   "outputs": [],
   "source": [
    "raw = raw[~raw['date'].isin(['2019-12-24', '2019-12-25', '2019-12-26', '2019-12-31', '2020-01-01'])]"
   ]
  },
  {
   "cell_type": "code",
   "execution_count": 26,
   "id": "329b4ef8",
   "metadata": {},
   "outputs": [],
   "source": [
    "raw = raw[raw['dow'] < 5]"
   ]
  },
  {
   "cell_type": "code",
   "execution_count": 27,
   "id": "03afa7dc",
   "metadata": {},
   "outputs": [],
   "source": [
    "date_list = list(raw['date'].drop_duplicates())"
   ]
  },
  {
   "cell_type": "code",
   "execution_count": 32,
   "id": "75849b50",
   "metadata": {},
   "outputs": [],
   "source": [
    "for date in date_list:\n",
    "    temp = raw[(raw['date'] == date) & (raw['hour'].isin([7,8,9,10,11]))].copy()\n",
    "    temp['period'] = 'AM'\n",
    "    temp.to_csv('cleaned_scarborough/raw_scarborough_' + date + '_AM.csv', index = False)\n",
    "    del temp"
   ]
  },
  {
   "cell_type": "code",
   "execution_count": 33,
   "id": "cd08516f",
   "metadata": {},
   "outputs": [],
   "source": [
    "for date in date_list:\n",
    "    temp = raw[(raw['date'] == date) & (raw['hour'].isin([4,5,6,7,8]))].copy()\n",
    "    temp['period'] = 'EM'\n",
    "    temp.to_csv('cleaned_scarborough/raw_scarborough_' + date + '_EM.csv', index = False)\n",
    "    del temp"
   ]
  },
  {
   "cell_type": "code",
   "execution_count": 34,
   "id": "572971b8",
   "metadata": {},
   "outputs": [],
   "source": [
    "for date in date_list:\n",
    "    temp = raw[(raw['date'] == date) & (raw['hour'].isin([11,12,13,14,15]))].copy()\n",
    "    temp['period'] = 'MD'\n",
    "    temp.to_csv('cleaned_scarborough/raw_scarborough_' + date + '_MD.csv', index = False)\n",
    "    del temp"
   ]
  },
  {
   "cell_type": "code",
   "execution_count": 35,
   "id": "76bfbf86",
   "metadata": {},
   "outputs": [],
   "source": [
    "for date in date_list:\n",
    "    temp = raw[(raw['date'] == date) & (raw['hour'].isin([16,17,18,19,20]))].copy()\n",
    "    temp['period'] = 'PM'\n",
    "    temp.to_csv('cleaned_scarborough/raw_scarborough_' + date + '_PM.csv', index = False)\n",
    "    del temp"
   ]
  },
  {
   "cell_type": "code",
   "execution_count": 36,
   "id": "b8542167",
   "metadata": {},
   "outputs": [],
   "source": [
    "for date in date_list:\n",
    "    temp = raw[(raw['date'] == date) & (raw['hour'].isin([20,21,22,23,0]))].copy()\n",
    "    temp['period'] = 'EV'\n",
    "    temp.to_csv('cleaned_scarborough/raw_scarborough_' + date + '_EV.csv', index = False)\n",
    "    del temp"
   ]
  },
  {
   "cell_type": "code",
   "execution_count": null,
   "id": "1a86e758",
   "metadata": {},
   "outputs": [],
   "source": []
  }
 ],
 "metadata": {
  "kernelspec": {
   "display_name": "Python 3 (ipykernel)",
   "language": "python",
   "name": "python3"
  },
  "language_info": {
   "codemirror_mode": {
    "name": "ipython",
    "version": 3
   },
   "file_extension": ".py",
   "mimetype": "text/x-python",
   "name": "python",
   "nbconvert_exporter": "python",
   "pygments_lexer": "ipython3",
   "version": "3.9.7"
  }
 },
 "nbformat": 4,
 "nbformat_minor": 5
}
