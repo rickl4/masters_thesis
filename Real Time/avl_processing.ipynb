{
 "cells": [
  {
   "cell_type": "code",
   "execution_count": 1,
   "id": "df0ddb3b",
   "metadata": {},
   "outputs": [],
   "source": [
    "import geopandas as gpd\n",
    "import pandas as pd\n",
    "import shapely\n",
    "import haversine\n",
    "import numpy as np\n",
    "\n",
    "import os"
   ]
  },
  {
   "cell_type": "code",
   "execution_count": 2,
   "id": "d45e8e2a",
   "metadata": {},
   "outputs": [],
   "source": [
    "simplify_dir = 'Stop Snapping/'"
   ]
  },
  {
   "cell_type": "code",
   "execution_count": 3,
   "id": "1ab534d5",
   "metadata": {},
   "outputs": [],
   "source": [
    "def hs(df):\n",
    "    return haversine.haversine((df['int_lon'], df['int_lat']), (df['stop_lon'], df['stop_lat']), unit=haversine.Unit.METERS)"
   ]
  },
  {
   "cell_type": "code",
   "execution_count": 4,
   "id": "c6dd6c48",
   "metadata": {},
   "outputs": [],
   "source": [
    "new_stn = gpd.read_file(simplify_dir + 'new_stations_capture.geojson')"
   ]
  },
  {
   "cell_type": "code",
   "execution_count": 5,
   "id": "b49907a5",
   "metadata": {},
   "outputs": [],
   "source": [
    "new_stn['name'] = new_stn['name'].str.split(' -', expand = True)[0]"
   ]
  },
  {
   "cell_type": "code",
   "execution_count": 6,
   "id": "a86b01e3",
   "metadata": {},
   "outputs": [],
   "source": [
    "stations = pd.read_csv(simplify_dir + 'stations.csv')"
   ]
  },
  {
   "cell_type": "code",
   "execution_count": 7,
   "id": "f23f7621",
   "metadata": {},
   "outputs": [],
   "source": [
    "new_stn = new_stn.merge(stations[['name','INT_ID']])"
   ]
  },
  {
   "cell_type": "code",
   "execution_count": 8,
   "id": "1a0ebb80",
   "metadata": {},
   "outputs": [],
   "source": [
    "new_stn = new_stn.rename(columns = {'latitude':'int_lat', 'longitude':'int_lon', 'stop_lon_19':'stop_lon', 'stop_lat_19':'stop_lat'})\n",
    "\n"
   ]
  },
  {
   "cell_type": "code",
   "execution_count": 9,
   "id": "d51bcf8f",
   "metadata": {},
   "outputs": [],
   "source": [
    "\n",
    "maj = gpd.read_file(simplify_dir + 'major_capture.geojson')[['INT_ID', 'stop_id']]\n",
    "maj_min = gpd.read_file(simplify_dir + 'maj_min_capture.geojson')[['INT_ID', 'stop_id']]\n",
    "min_min = gpd.read_file(simplify_dir + 'min_min_capture.geojson')[['INT_ID', 'stop_id']]\n",
    "maj_col = gpd.read_file(simplify_dir + 'maj_col_capture.geojson')[['INT_ID', 'stop_id']]\n",
    "voronoi = gpd.read_file(simplify_dir + 'int_remaining_capture.geojson')[['INT_ID', 'stop_id']]"
   ]
  },
  {
   "cell_type": "code",
   "execution_count": 10,
   "id": "11a40b11",
   "metadata": {},
   "outputs": [],
   "source": [
    "int_stop = maj.append(maj_min).append(maj_col).append(min_min).append(voronoi).append(new_stn)\n",
    "int_stop = int_stop.dropna(subset = ['stop_id'])"
   ]
  },
  {
   "cell_type": "code",
   "execution_count": 11,
   "id": "b5907dd0",
   "metadata": {},
   "outputs": [],
   "source": [
    "int_geo = gpd.read_file('/Volumes/Data2/RST/notebook/GIS/intersection-file-wgs84/CENTRELINE_INTERSECTION_WGS84.shp')\n",
    "int_geo['int_lon'] = int_geo['geometry'].x\n",
    "int_geo['int_lat'] = int_geo['geometry'].y\n",
    "\n",
    "int_geo = int_geo[['INT_ID', 'int_lon', 'int_lat']]"
   ]
  },
  {
   "cell_type": "code",
   "execution_count": 12,
   "id": "5ad2be3d",
   "metadata": {},
   "outputs": [],
   "source": [
    "stops = pd.read_csv('gtfs_2019-11-14/stops.txt')\n",
    "stops = stops[['stop_id', 'stop_lon', 'stop_lat']]"
   ]
  },
  {
   "cell_type": "code",
   "execution_count": 13,
   "id": "ef829c46",
   "metadata": {},
   "outputs": [],
   "source": [
    "int_stop = int_stop.merge(int_geo).merge(stops)[['INT_ID', 'int_lon', 'int_lat', 'stop_id', 'stop_lon', 'stop_lat']]\n",
    "\n",
    "int_stop_16 = pd.read_csv('/Volumes/Data2/RST/notebook/GTFS/stop_snapping/GIS Simplify/int_stop.csv')[['INT_ID','int_lon', 'int_lat', 'stop_id', 'stop_lon', 'stop_lat']]\n",
    "int_stop = int_stop.append(int_stop_16)\n",
    "\n",
    "stn = gpd.read_file(simplify_dir + 'station_capture.geojson').drop_duplicates()\n",
    "stn = stn.merge(pd.read_csv(simplify_dir + 'stations.csv'))\n",
    "\n",
    "\n",
    "stn = stn.rename(columns = {'latitude':'int_lat', 'longitude':'int_lon', 'stop_lon_19':'stop_lon', 'stop_lat_19':'stop_lat'})\n",
    "\n",
    "stn = stn[['INT_ID', 'int_lon', 'int_lat', 'stop_id', 'stop_lon', 'stop_lat']].dropna()\n",
    "\n",
    "new_stn = gpd.read_file(simplify_dir + 'new_stations_capture.geojson')\n",
    "new_stn['name'] = new_stn['name'].str.split(' -', expand = True)[0]\n",
    "stations = pd.read_csv(simplify_dir + 'stations.csv')\n",
    "new_stn = new_stn.merge(stations[['name','INT_ID']])\n",
    "new_stn = new_stn.rename(columns = {'latitude':'int_lat', 'longitude':'int_lon', 'stop_lon_19':'stop_lon', 'stop_lat_19':'stop_lat'})\n",
    "new_stn = new_stn[['INT_ID', 'int_lon', 'int_lat', 'stop_id', 'stop_lon', 'stop_lat']].dropna()\n",
    "\n",
    "\n",
    "\n",
    "\n",
    "int_stop = int_stop.append(stn).append(new_stn)\n",
    "\n",
    "int_stop = int_stop.drop_duplicates()\n",
    "int_stop['dist'] = int_stop.apply(hs, axis = 1)"
   ]
  },
  {
   "cell_type": "code",
   "execution_count": 14,
   "id": "2d8f8596",
   "metadata": {},
   "outputs": [],
   "source": [
    "int_stop = int_stop.sort_values(by = ['INT_ID'])\n",
    "int_stop = int_stop.drop_duplicates(subset = ['stop_id'], keep = 'first')"
   ]
  },
  {
   "cell_type": "code",
   "execution_count": 15,
   "id": "e6f871b6",
   "metadata": {},
   "outputs": [],
   "source": [
    "int_stop.to_csv('int_stop_19.csv', index = False)"
   ]
  },
  {
   "cell_type": "code",
   "execution_count": 16,
   "id": "601c8b34",
   "metadata": {},
   "outputs": [],
   "source": [
    "df = pd.read_csv('cleaned_surface/raw_surface_2019-11-28_AM_.csv')"
   ]
  },
  {
   "cell_type": "code",
   "execution_count": 17,
   "id": "f959bc28",
   "metadata": {},
   "outputs": [
    {
     "data": {
      "text/plain": [
       "'2019-11-29'"
      ]
     },
     "execution_count": 17,
     "metadata": {},
     "output_type": "execute_result"
    }
   ],
   "source": [
    "os.listdir('cleaned_surface')[1].split('_')[2]"
   ]
  },
  {
   "cell_type": "code",
   "execution_count": 18,
   "id": "7f18dca0",
   "metadata": {},
   "outputs": [
    {
     "name": "stderr",
     "output_type": "stream",
     "text": [
      "/var/folders/zw/x46df3ms6r5391lyb_y98z600000gn/T/ipykernel_32058/3802096696.py:19: SettingWithCopyWarning: \n",
      "A value is trying to be set on a copy of a slice from a DataFrame.\n",
      "Try using .loc[row_indexer,col_indexer] = value instead\n",
      "\n",
      "See the caveats in the documentation: https://pandas.pydata.org/pandas-docs/stable/user_guide/indexing.html#returning-a-view-versus-a-copy\n",
      "  df_simple['min'] = np.where(df_simple['sec']>29, df_simple['min'] + 1, df_simple['min'])\n",
      "/opt/anaconda3/lib/python3.9/site-packages/IPython/core/interactiveshell.py:3444: DtypeWarning: Columns (1) have mixed types.Specify dtype option on import or set low_memory=False.\n",
      "  exec(code_obj, self.user_global_ns, self.user_ns)\n"
     ]
    }
   ],
   "source": [
    "for file in os.listdir('cleaned_surface'):\n",
    "    \n",
    "    period = file.split('_')[3]\n",
    "    date = file.split('_')[2]\n",
    "\n",
    "    df = pd.read_csv('cleaned_surface/' + file)\n",
    "    \n",
    "    df['timestamp'] = pd.to_datetime(df['timestamp'])\n",
    "    df = df.sort_values(by = ['id', 'timestamp'])\n",
    "\n",
    "    g = df.groupby('id', as_index=False)\n",
    "    df['sequence'] = g.cumcount() + 1\n",
    "\n",
    "    df['hr'] = df['timestamp'].dt.hour\n",
    "    df['min'] = df['timestamp'].dt.minute\n",
    "    df['sec'] = df['timestamp'].dt.second\n",
    "    df_simple = df[['id', 'route', 'stop_id', 'sequence', 'hr', 'min','sec']]\n",
    "\n",
    "    df_simple['min'] = np.where(df_simple['sec']>29, df_simple['min'] + 1, df_simple['min'])\n",
    "\n",
    "    df_simple = df_simple.reset_index()\n",
    "\n",
    "    df_int = df_simple.merge(int_stop[['INT_ID', 'dist', 'stop_id']], how = 'left')\n",
    "\n",
    "    df_int = df_int.dropna(subset =['INT_ID'\n",
    "                                      ]).sort_values(by = 'dist', ascending = True).drop_duplicates(subset = [\n",
    "        'id', 'INT_ID'], keep = 'first').sort_values(by = ['id', 'sequence'])\n",
    "\n",
    "    g = df_int.groupby('id', as_index=False)\n",
    "    df_int['stop_sequence_new'] = g.cumcount() + 1\n",
    "\n",
    "    df_int['hr'] = np.where(df_int['min'] == 60, \n",
    "                                        df_int['hr'] + 1, df_int['hr'])\n",
    "    df_int['min'] = np.where(df_int['min'] == 60, \n",
    "                                        0, df_int['min'])\n",
    "    \n",
    "    df_int[['id', 'route', 'stop_sequence_new', 'sequence','hr', 'min', 'INT_ID']].to_csv(\n",
    "    'processed_surface/processed-surface_' + date + '_' + period + '.csv', index = False)\n",
    "    \n",
    "    "
   ]
  },
  {
   "cell_type": "code",
   "execution_count": 19,
   "id": "f048a1f8",
   "metadata": {},
   "outputs": [],
   "source": [
    "new_ints = int_stop[['INT_ID', 'int_lon', 'int_lat']].drop_duplicates()\n",
    "\n",
    "new_ints_geo = gpd.GeoDataFrame(new_ints,  geometry=gpd.points_from_xy(\n",
    "    new_ints.int_lon, new_ints.int_lat)).set_crs(epsg = '4326').to_crs(epsg = '32617')"
   ]
  },
  {
   "cell_type": "code",
   "execution_count": 20,
   "id": "2b75c9c7",
   "metadata": {},
   "outputs": [],
   "source": [
    "new_stops = int_stop[['stop_id', 'stop_lon', 'stop_lat']].drop_duplicates()\n",
    "\n",
    "new_stops_geo = gpd.GeoDataFrame(new_stops,  geometry=gpd.points_from_xy(\n",
    "    new_stops.stop_lon, new_stops.stop_lat)).set_crs(epsg = '4326').to_crs(epsg = '32617')"
   ]
  },
  {
   "cell_type": "code",
   "execution_count": 21,
   "id": "93819971",
   "metadata": {},
   "outputs": [],
   "source": [
    "new_ints_geo.to_file('new_ints.geojson', driver = 'GeoJSON')"
   ]
  },
  {
   "cell_type": "code",
   "execution_count": 22,
   "id": "25e2427d",
   "metadata": {},
   "outputs": [],
   "source": [
    "new_stops_geo.to_file('new_stops.geojson', driver = 'GeoJSON')"
   ]
  },
  {
   "cell_type": "code",
   "execution_count": null,
   "id": "2f5b049d",
   "metadata": {},
   "outputs": [],
   "source": []
  }
 ],
 "metadata": {
  "kernelspec": {
   "display_name": "Python 3 (ipykernel)",
   "language": "python",
   "name": "python3"
  },
  "language_info": {
   "codemirror_mode": {
    "name": "ipython",
    "version": 3
   },
   "file_extension": ".py",
   "mimetype": "text/x-python",
   "name": "python",
   "nbconvert_exporter": "python",
   "pygments_lexer": "ipython3",
   "version": "3.9.7"
  }
 },
 "nbformat": 4,
 "nbformat_minor": 5
}
