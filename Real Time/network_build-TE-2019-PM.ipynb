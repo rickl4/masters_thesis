{
 "cells": [
  {
   "cell_type": "code",
   "execution_count": 1,
   "id": "2849d2c9",
   "metadata": {},
   "outputs": [],
   "source": [
    "import pandas as pd\n",
    "import networkx as nx\n",
    "import numpy as np"
   ]
  },
  {
   "cell_type": "code",
   "execution_count": 2,
   "id": "6cc9bd45",
   "metadata": {},
   "outputs": [],
   "source": [
    "period = 'PM'"
   ]
  },
  {
   "cell_type": "code",
   "execution_count": 3,
   "id": "8ab335ad",
   "metadata": {},
   "outputs": [],
   "source": [
    "if period == 'AM':\n",
    "    hr_list = [7,8,9,10,11]\n",
    "    departure_hour = [7]\n",
    "elif period == 'MD':\n",
    "    hr_list = [11,12,13,14,15]\n",
    "    departure_hour = [11]\n",
    "elif period == 'PM':\n",
    "    hr_list = [17,18,19,20,21]\n",
    "    departure_hour = [17]\n",
    "elif period == 'EV':\n",
    "    hr_list = [20,21,22,23,0]\n",
    "    departure_hour = [20]\n",
    "elif period == 'EM':\n",
    "    hr_list = [4,5,6,7,8]\n",
    "    departure_hour = [4]"
   ]
  },
  {
   "cell_type": "code",
   "execution_count": 4,
   "id": "53638415",
   "metadata": {},
   "outputs": [],
   "source": [
    "stop_times_reduced = pd.read_csv('gtfs_2019-11-14/stop_times_reduced.csv')"
   ]
  },
  {
   "cell_type": "code",
   "execution_count": 5,
   "id": "ea310901",
   "metadata": {},
   "outputs": [],
   "source": [
    "#stop_times_reduced = stop_times_reduced.drop(columns = 'stop_sequence').rename(columns = {'stop_sequence_new':'stop_sequence'})"
   ]
  },
  {
   "cell_type": "code",
   "execution_count": 6,
   "id": "92e5a78c",
   "metadata": {},
   "outputs": [],
   "source": [
    "stop_times_reduced = stop_times_reduced[stop_times_reduced['hr'].isin(hr_list)]\n",
    "\n",
    "stop_times_reduced['hr'] = np.where(stop_times_reduced['hr']>23, stop_times_reduced['hr'] - 24, stop_times_reduced['hr'])\n",
    "\n",
    "stop_times_reduced_o = stop_times_reduced.copy()\n",
    "stop_times_reduced_d = stop_times_reduced.copy()\n",
    "stop_times_reduced_d['stop_sequence_new'] = stop_times_reduced_d['stop_sequence_new'] - 1"
   ]
  },
  {
   "cell_type": "code",
   "execution_count": 7,
   "id": "bf35e8e9",
   "metadata": {},
   "outputs": [],
   "source": [
    "stop_times_od = stop_times_reduced_o.merge(stop_times_reduced_d, left_on = ['trip_id', 'stop_sequence_new', 'route_short_name'],\n",
    "                           right_on = ['trip_id', 'stop_sequence_new','route_short_name'], suffixes = ['_o', '_d'])"
   ]
  },
  {
   "cell_type": "code",
   "execution_count": 8,
   "id": "513fa06c",
   "metadata": {},
   "outputs": [],
   "source": [
    "stop_times_od = stop_times_od.drop(columns = ['dist_o', 'dist_d', 'stop_id_o', 'stop_id_d'])"
   ]
  },
  {
   "cell_type": "code",
   "execution_count": 9,
   "id": "45ccd4cd",
   "metadata": {},
   "outputs": [],
   "source": [
    "stop_times_od['min_o'] = stop_times_od['min_o'].apply(lambda x: '{0:0>2}'.format(x))\n",
    "stop_times_od['min_d'] = stop_times_od['min_d'].apply(lambda x: '{0:0>2}'.format(x))"
   ]
  },
  {
   "cell_type": "code",
   "execution_count": 10,
   "id": "e2aea0f7",
   "metadata": {},
   "outputs": [],
   "source": [
    "stop_times_od['hr_o'] = stop_times_od['hr_o'].astype(str)\n",
    "stop_times_od['hr_d'] = stop_times_od['hr_d'].astype(str)"
   ]
  },
  {
   "cell_type": "code",
   "execution_count": 11,
   "id": "d5fa7bc0",
   "metadata": {},
   "outputs": [],
   "source": [
    "stop_times_od['o_time_str'] = stop_times_od['hr_o'] + ':' + stop_times_od['min_o']\n",
    "stop_times_od['d_time_str'] = stop_times_od['hr_d'] + ':' + stop_times_od['min_d']"
   ]
  },
  {
   "cell_type": "code",
   "execution_count": 12,
   "id": "539fc6f9",
   "metadata": {},
   "outputs": [],
   "source": [
    "stop_times_od['o_time'] = pd.to_datetime(stop_times_od['o_time_str'], format = '%H:%M')\n",
    "stop_times_od['d_time'] = pd.to_datetime(stop_times_od['d_time_str'], format = '%H:%M')\n",
    "\n"
   ]
  },
  {
   "cell_type": "code",
   "execution_count": 13,
   "id": "2bde6375",
   "metadata": {},
   "outputs": [],
   "source": [
    "stop_times_od['cost'] = ((stop_times_od['d_time'] - stop_times_od['o_time']).dt.seconds)/60"
   ]
  },
  {
   "cell_type": "code",
   "execution_count": 14,
   "id": "8cc4a49e",
   "metadata": {},
   "outputs": [],
   "source": [
    "stop_times_od['o_time'] = stop_times_od['o_time'].dt.time\n",
    "stop_times_od['d_time'] = stop_times_od['d_time'].dt.time"
   ]
  },
  {
   "cell_type": "code",
   "execution_count": 15,
   "id": "62fdd961",
   "metadata": {},
   "outputs": [],
   "source": [
    "stop_times_od['node_o'] = stop_times_od['INT_ID_o'].astype(\n",
    "    int).astype(str) + '-' + stop_times_od['route_short_name'].astype(int).astype(str) +'-'+ stop_times_od['hr_o'].astype(\n",
    "    str) + '-' + stop_times_od['min_o'].astype(int).astype(str)\n",
    "stop_times_od['node_d'] = stop_times_od['INT_ID_d'].astype(\n",
    "    int).astype(str) + '-' + stop_times_od['route_short_name'].astype(int).astype(str) +'-'+ stop_times_od['hr_d'].astype(\n",
    "    str) + '-' + stop_times_od['min_d'].astype(int).astype(str)"
   ]
  },
  {
   "cell_type": "code",
   "execution_count": 16,
   "id": "9e4ba4d8",
   "metadata": {},
   "outputs": [],
   "source": [
    "trips_weekday = pd.read_csv('gtfs_2019-11-14/trips_weekday.csv')\n",
    "stop_times_od = stop_times_od.merge(trips_weekday[['trip_id', 'direction_id']], how = 'inner')"
   ]
  },
  {
   "cell_type": "code",
   "execution_count": 17,
   "id": "fd921cc2",
   "metadata": {},
   "outputs": [],
   "source": [
    "stop_times_od['link'] = '0' + '-' + stop_times_od['route_short_name'].astype(int).astype(str) +'-' + stop_times_od['trip_id'].astype(str) + '-' + stop_times_od['direction_id'].astype(str)+ '_' + stop_times_od['node_o'] + '_' + stop_times_od['node_d']"
   ]
  },
  {
   "cell_type": "code",
   "execution_count": 18,
   "id": "730ac3d8",
   "metadata": {},
   "outputs": [],
   "source": [
    "stop_times_od['cost'] = stop_times_od['cost'].astype(int)"
   ]
  },
  {
   "cell_type": "code",
   "execution_count": 19,
   "id": "d7cbd6a6",
   "metadata": {},
   "outputs": [],
   "source": [
    "walk_links = pd.read_csv('int_tts_walk_time19.csv')\n",
    "walk_links['duration'] = round(walk_links['duration']/60).astype(int)\n",
    "walk_links['gta06'] = walk_links['gta06'] + 1000"
   ]
  },
  {
   "cell_type": "markdown",
   "id": "5a7b372b",
   "metadata": {},
   "source": [
    "# Graph Build"
   ]
  },
  {
   "cell_type": "code",
   "execution_count": 20,
   "id": "bea7b53d",
   "metadata": {},
   "outputs": [],
   "source": [
    "G = nx.DiGraph()"
   ]
  },
  {
   "cell_type": "markdown",
   "id": "d4c7a171",
   "metadata": {},
   "source": [
    "## Node Times"
   ]
  },
  {
   "cell_type": "code",
   "execution_count": 21,
   "id": "2afc6303",
   "metadata": {},
   "outputs": [],
   "source": [
    "nodes = list((stop_times_od['INT_ID_o'].append(stop_times_od['INT_ID_d'])).drop_duplicates())"
   ]
  },
  {
   "cell_type": "code",
   "execution_count": 22,
   "id": "5e9b8184",
   "metadata": {},
   "outputs": [],
   "source": [
    "node_list = []\n",
    "for node in nodes:\n",
    "    for hr_i in hr_list:\n",
    "        if hr_i > 23:  \n",
    "            hr = hr_i - 24\n",
    "        else:\n",
    "            hr = hr_i\n",
    "        for minute in range(60):\n",
    "            node_id = str(int(node)) + '-0-' + str(hr) + '-' + str(minute)\n",
    "            node_list.append(node_id)"
   ]
  },
  {
   "cell_type": "code",
   "execution_count": 23,
   "id": "0ca90c15",
   "metadata": {},
   "outputs": [],
   "source": [
    "G.add_nodes_from(node_list)"
   ]
  },
  {
   "cell_type": "markdown",
   "id": "34e2ca44",
   "metadata": {},
   "source": [
    "## Boarding Nodes"
   ]
  },
  {
   "cell_type": "code",
   "execution_count": 24,
   "id": "39362b21",
   "metadata": {},
   "outputs": [],
   "source": [
    "boarding_nodes = list(stop_times_od['node_o'].drop_duplicates())\n",
    "G.add_nodes_from(boarding_nodes)"
   ]
  },
  {
   "cell_type": "markdown",
   "id": "a76951d5",
   "metadata": {},
   "source": [
    "## Alighting Nodes"
   ]
  },
  {
   "cell_type": "code",
   "execution_count": 25,
   "id": "a7e778c6",
   "metadata": {},
   "outputs": [],
   "source": [
    "alighting_nodes = list(stop_times_od['node_d'].drop_duplicates())\n",
    "G.add_nodes_from(alighting_nodes)"
   ]
  },
  {
   "cell_type": "markdown",
   "id": "3c6ff295",
   "metadata": {},
   "source": [
    "## Travel Links"
   ]
  },
  {
   "cell_type": "code",
   "execution_count": 26,
   "id": "9c6b8314",
   "metadata": {},
   "outputs": [],
   "source": [
    "link_list = []\n",
    "for index, row in stop_times_od.iterrows():\n",
    "    attributes = {'cost': row['cost']}\n",
    "    link = (row['node_o'], row['node_d'], attributes)\n",
    "    link_list.append(link)\n",
    "    \n",
    "G.add_edges_from(link_list)"
   ]
  },
  {
   "cell_type": "markdown",
   "id": "0458e3a6",
   "metadata": {},
   "source": [
    "## Waiting Links"
   ]
  },
  {
   "cell_type": "code",
   "execution_count": 27,
   "id": "c079cca2",
   "metadata": {},
   "outputs": [],
   "source": [
    "transfer_list = []\n",
    "for node in nodes:\n",
    "    next_hr = hr_list[0]\n",
    "    next_minute = 0\n",
    "    node = int(node)\n",
    "    for hr_i in hr_list:\n",
    "        if hr_i > 23:\n",
    "            current_hr = hr_i - 24 \n",
    "        else:\n",
    "            current_hr = hr_i\n",
    "        for minute in range(60):\n",
    "            current_minute = minute\n",
    "            if current_minute == 59:\n",
    "                next_minute = 0\n",
    "                next_hr = current_hr + 1\n",
    "                \n",
    "            else:\n",
    "                next_minute = current_minute + 1\n",
    "            node_o = str(node) + '-0-' + str(current_hr) + '-' + str(current_minute)\n",
    "            node_d = str(node) + '-0-' + str(next_hr) + '-' + str(next_minute)\n",
    "            \n",
    "            link_name = '1-0-0-9_' + node_o + '_' + node_d\n",
    "            \n",
    "            attributes = {'cost': 1}\n",
    "            \n",
    "            \n",
    "            link = (node_o, node_d, attributes)\n",
    "            transfer_list.append(link)\n",
    "    "
   ]
  },
  {
   "cell_type": "code",
   "execution_count": 28,
   "id": "7e2371d8",
   "metadata": {},
   "outputs": [],
   "source": [
    "G.add_edges_from(transfer_list)"
   ]
  },
  {
   "cell_type": "markdown",
   "id": "cc99e4f9",
   "metadata": {},
   "source": [
    "## Boarding Links"
   ]
  },
  {
   "cell_type": "code",
   "execution_count": 29,
   "id": "5a65f06e",
   "metadata": {},
   "outputs": [],
   "source": [
    "boarding_link = []\n",
    "for node in boarding_nodes:\n",
    "    node_split = node.split('-')\n",
    "    int_id = node_split[0]\n",
    "    boarding_hr = int(node_split[2])\n",
    "    boarding_minute = int(node_split[3])\n",
    "\n",
    "    stop_minute = boarding_minute - 2\n",
    "    if stop_minute < 0:\n",
    "        stop_hr = boarding_hr -1\n",
    "        stop_minute = 60 + stop_minute\n",
    "    else:\n",
    "        stop_hr = boarding_hr\n",
    "\n",
    "    stop_node = int_id + '-0-' + str(stop_hr) + '-' + str(stop_minute)\n",
    "    attributes = {'cost': 2}\n",
    "    \n",
    "    link = (stop_node, node, attributes)\n",
    "    \n",
    "    boarding_link.append(link)"
   ]
  },
  {
   "cell_type": "code",
   "execution_count": 30,
   "id": "fe20af9c",
   "metadata": {},
   "outputs": [],
   "source": [
    "G.add_edges_from(boarding_link)"
   ]
  },
  {
   "cell_type": "markdown",
   "id": "ee7ef9a9",
   "metadata": {},
   "source": [
    "## Alighting Links"
   ]
  },
  {
   "cell_type": "code",
   "execution_count": 31,
   "id": "7e1e5124",
   "metadata": {},
   "outputs": [],
   "source": [
    "alighting_link = []\n",
    "for node in alighting_nodes:\n",
    "    node_split = node.split('-')\n",
    "    int_id = node_split[0]\n",
    "    alighting_hr = int(node_split[2])\n",
    "    alighting_minute = int(node_split[3])\n",
    "\n",
    "    stop_minute = alighting_minute + 2\n",
    "    if stop_minute > 59:\n",
    "        stop_hr = alighting_hr + 1\n",
    "        stop_minute = stop_minute - 60\n",
    "    else:\n",
    "        stop_hr = alighting_hr\n",
    "\n",
    "    stop_node = int_id + '-0-' + str(stop_hr) + '-' + str(stop_minute)\n",
    "    attributes = {'cost': 2}\n",
    "    \n",
    "    link = (node, stop_node, attributes)\n",
    "    \n",
    "    alighting_link.append(link)"
   ]
  },
  {
   "cell_type": "code",
   "execution_count": 32,
   "id": "ca947c6e",
   "metadata": {},
   "outputs": [],
   "source": [
    "G.add_edges_from(alighting_link)"
   ]
  },
  {
   "cell_type": "markdown",
   "id": "d8dbca88",
   "metadata": {},
   "source": [
    "## TTS Zone Origins"
   ]
  },
  {
   "cell_type": "code",
   "execution_count": 33,
   "id": "e709df6a",
   "metadata": {},
   "outputs": [],
   "source": [
    "tts_zones = list(walk_links['gta06'].drop_duplicates())\n",
    "\n",
    "node_stationary_list = []\n",
    "for zone in tts_zones:\n",
    "    for hr_i in hr_list:\n",
    "        if hr_i > 23:  \n",
    "            hr = hr_i - 24\n",
    "        else:\n",
    "            hr = hr_i\n",
    "        for minute in range(60):\n",
    "            node_id = str(int(zone)) + '-0-' + str(hr) + '-' + str(minute)\n",
    "            node_stationary_list.append(node_id)\n",
    "            \n",
    "G.add_nodes_from(node_stationary_list)"
   ]
  },
  {
   "cell_type": "markdown",
   "id": "41e76d61",
   "metadata": {},
   "source": [
    "## TTS Zone Destinations"
   ]
  },
  {
   "cell_type": "code",
   "execution_count": 34,
   "id": "0b98f77e",
   "metadata": {},
   "outputs": [],
   "source": [
    "zone_destinations = []\n",
    "for zone in tts_zones:\n",
    "    node_id = str(int(zone)) + '-0-99-99'\n",
    "    zone_destinations.append(node_id)"
   ]
  },
  {
   "cell_type": "code",
   "execution_count": 35,
   "id": "8bea66fc",
   "metadata": {},
   "outputs": [],
   "source": [
    "G.add_nodes_from(zone_destinations)"
   ]
  },
  {
   "cell_type": "markdown",
   "id": "7ad57cf3",
   "metadata": {},
   "source": [
    "## From TTS to Intersections"
   ]
  },
  {
   "cell_type": "code",
   "execution_count": 36,
   "id": "b69ce921",
   "metadata": {},
   "outputs": [],
   "source": [
    "walk_link_outbound = []\n",
    "for index, row in walk_links.iterrows():\n",
    "    \n",
    "    zone = int(row['gta06'])\n",
    "    node = int(row['INT_ID'])\n",
    "    cost = int(row['duration'])\n",
    "    \n",
    "    for hr_i in departure_hour:\n",
    "        if hr_i > 23:\n",
    "            current_hr = hr_i - 24 \n",
    "        else:\n",
    "            current_hr = hr_i\n",
    "        for minute in range(60):\n",
    "            current_minute = minute\n",
    "            next_hr = current_hr\n",
    "            next_minute = current_minute + cost\n",
    "            if next_minute > 59:\n",
    "                next_hr= current_hr + 1\n",
    "                next_minute = next_minute - 60\n",
    "                \n",
    "            node_o = str(zone) + '-0-' + str(current_hr) + '-' + str(current_minute)\n",
    "            node_d = str(node) + '-0-' + str(next_hr) + '-' + str(next_minute)\n",
    "            \n",
    "            link_name = '2-0-0-0_' + node_o + '_' + node_d\n",
    "            \n",
    "            attributes = {'cost': cost}\n",
    "    \n",
    "            link = (node_o, node_d, attributes)\n",
    "            walk_link_outbound.append(link)"
   ]
  },
  {
   "cell_type": "markdown",
   "id": "56b2ba46",
   "metadata": {},
   "source": [
    "## From Intersections To TTS"
   ]
  },
  {
   "cell_type": "code",
   "execution_count": 37,
   "id": "5c5efcfe",
   "metadata": {},
   "outputs": [],
   "source": [
    "walk_link_inbound = []\n",
    "for index, row in walk_links.iterrows():\n",
    "    \n",
    "    zone = int(row['gta06'])\n",
    "    node = int(row['INT_ID'])\n",
    "    cost = int(row['duration'])\n",
    "    \n",
    "    for hr_i in hr_list:\n",
    "        if hr_i > 23:\n",
    "            current_hr = hr_i - 24 \n",
    "        else:\n",
    "            current_hr = hr_i\n",
    "        for minute in range(60):\n",
    "            current_minute = minute\n",
    "                \n",
    "            node_o = str(node) + '-0-' + str(current_hr) + '-' + str(current_minute)\n",
    "            node_d = str(zone) + '-0-99-99'\n",
    "            \n",
    "            link_name = '2-0-0-1_' + node_o + '_' + node_d\n",
    "            \n",
    "            attributes = {'cost': cost}\n",
    "    \n",
    "            link = (node_o, node_d, attributes)\n",
    "            walk_link_inbound.append(link)"
   ]
  },
  {
   "cell_type": "code",
   "execution_count": 38,
   "id": "83a695d9",
   "metadata": {},
   "outputs": [],
   "source": [
    "G.add_edges_from(walk_link_outbound)"
   ]
  },
  {
   "cell_type": "code",
   "execution_count": 39,
   "id": "842cf245",
   "metadata": {},
   "outputs": [],
   "source": [
    "G.add_edges_from(walk_link_inbound)"
   ]
  },
  {
   "cell_type": "code",
   "execution_count": 40,
   "id": "6e6c2f25",
   "metadata": {},
   "outputs": [],
   "source": [
    "nx.write_graphml(G,'networks/scheduled/2019-11-14_' + period + '.graphml')\n",
    "stop_times_od.to_csv('networks/scheduled/2019-11-14_' + period + '.csv', index = False)"
   ]
  },
  {
   "cell_type": "code",
   "execution_count": 41,
   "id": "55857b7e",
   "metadata": {},
   "outputs": [
    {
     "data": {
      "text/plain": [
       "['151-0-17-6',\n",
       " '151-504-17-7',\n",
       " '151-508-17-7',\n",
       " '1015-0-99-99',\n",
       " '1016-0-99-99',\n",
       " '1024-0-99-99',\n",
       " '1025-0-99-99',\n",
       " '1026-0-99-99',\n",
       " '1028-0-99-99',\n",
       " '1030-0-99-99',\n",
       " '1031-0-99-99',\n",
       " '1032-0-99-99',\n",
       " '1033-0-99-99',\n",
       " '1034-0-99-99',\n",
       " '1035-0-99-99',\n",
       " '1036-0-99-99',\n",
       " '1037-0-99-99',\n",
       " '1038-0-99-99',\n",
       " '1040-0-99-99',\n",
       " '1048-0-99-99',\n",
       " '1049-0-99-99',\n",
       " '1050-0-99-99',\n",
       " '1051-0-99-99',\n",
       " '1052-0-99-99',\n",
       " '1053-0-99-99',\n",
       " '1054-0-99-99',\n",
       " '1055-0-99-99',\n",
       " '1056-0-99-99',\n",
       " '1057-0-99-99',\n",
       " '1058-0-99-99',\n",
       " '1059-0-99-99',\n",
       " '1060-0-99-99',\n",
       " '1061-0-99-99',\n",
       " '1062-0-99-99',\n",
       " '1063-0-99-99',\n",
       " '1064-0-99-99',\n",
       " '1065-0-99-99',\n",
       " '1066-0-99-99',\n",
       " '1067-0-99-99',\n",
       " '1068-0-99-99',\n",
       " '1069-0-99-99',\n",
       " '1076-0-99-99',\n",
       " '1077-0-99-99',\n",
       " '1078-0-99-99',\n",
       " '1079-0-99-99',\n",
       " '1080-0-99-99',\n",
       " '1090-0-99-99',\n",
       " '1081-0-99-99']"
      ]
     },
     "execution_count": 41,
     "metadata": {},
     "output_type": "execute_result"
    }
   ],
   "source": [
    "list(G.neighbors('151-0-17-5'))"
   ]
  },
  {
   "cell_type": "code",
   "execution_count": null,
   "id": "7eef786f",
   "metadata": {},
   "outputs": [],
   "source": []
  }
 ],
 "metadata": {
  "kernelspec": {
   "display_name": "Python 3 (ipykernel)",
   "language": "python",
   "name": "python3"
  },
  "language_info": {
   "codemirror_mode": {
    "name": "ipython",
    "version": 3
   },
   "file_extension": ".py",
   "mimetype": "text/x-python",
   "name": "python",
   "nbconvert_exporter": "python",
   "pygments_lexer": "ipython3",
   "version": "3.9.7"
  }
 },
 "nbformat": 4,
 "nbformat_minor": 5
}
