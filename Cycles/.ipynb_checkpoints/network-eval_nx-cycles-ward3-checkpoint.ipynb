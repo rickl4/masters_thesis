{
 "cells": [
  {
   "cell_type": "code",
   "execution_count": 1,
   "metadata": {},
   "outputs": [],
   "source": [
    "import networkx as nx\n",
    "import pandas as pd\n",
    "import numpy as np\n",
    "from scipy import stats\n",
    "import statistics\n",
    "import itertools"
   ]
  },
  {
   "cell_type": "code",
   "execution_count": 2,
   "metadata": {},
   "outputs": [],
   "source": [
    "simplify_dir = '/Volumes/Data2/RST/notebook/GTFS/TTC_2016-10-03/GIS Simplify/'\n",
    "gtfs_dir = '/Volumes/Data2/RST/notebook/GTFS/TTC_2016-10-03/'"
   ]
  },
  {
   "cell_type": "code",
   "execution_count": 4,
   "metadata": {},
   "outputs": [],
   "source": [
    "simplify_dir = 'D:/RST/RST/notebook/GTFS/TTC_2016-10-03/GIS Simplify/'\n",
    "\n",
    "gtfs_dir = 'D:/RST/notebook/GTFS/TTC_2016-10-03/'"
   ]
  },
  {
   "cell_type": "code",
   "execution_count": 5,
   "metadata": {},
   "outputs": [],
   "source": [
    "ward_int = pd.read_csv('D:/RST/notebook/GIS/int_wards.csv')\n",
    "ward_int['INT_ID_STR'] = ward_int['INT_ID'].astype(str)"
   ]
  },
  {
   "cell_type": "code",
   "execution_count": 6,
   "metadata": {},
   "outputs": [],
   "source": [
    "period = 'AM'\n",
    "period_hr = 7"
   ]
  },
  {
   "cell_type": "code",
   "execution_count": 7,
   "metadata": {},
   "outputs": [],
   "source": [
    "G = nx.read_gexf('D:/RST/notebook/networks/' + period +'-RM-16-singleDi.gexf')\n",
    "graph_data = pd.read_csv('D:/RST/notebook/networks/' + period +'-RM-16-singleDi.csv')\n",
    "stop_times_od = pd.read_csv(gtfs_dir + 'stop_times_full.csv')"
   ]
  },
  {
   "cell_type": "code",
   "execution_count": 8,
   "metadata": {},
   "outputs": [],
   "source": [
    "route_dir = stop_times_od[stop_times_od['hr_o'] == period_hr]\n",
    "route_dir = route_dir[['INT_ID_o', 'INT_ID_d', 'route_short_name']].drop_duplicates()\n",
    "route_dir = route_dir.groupby(['INT_ID_o', 'INT_ID_d'])['route_short_name'].apply(list).reset_index()\n",
    "route_dir = route_dir.merge(graph_data)"
   ]
  },
  {
   "cell_type": "code",
   "execution_count": 9,
   "metadata": {},
   "outputs": [],
   "source": [
    "def func(row):\n",
    "\n",
    "    single_cycle = row.copy()\n",
    "    single_cycle.append(single_cycle[0])\n",
    "    single_cycle.append(None)\n",
    "\n",
    "\n",
    "    cycle_pairs = list(zip(single_cycle [::1], single_cycle [1::1]))[:-1]\n",
    "    cycle_pairs = [list(map(int, sublist)) for sublist in cycle_pairs]\n",
    "    cycle_df = route_dir.merge(pd.DataFrame.from_records(cycle_pairs, columns = ['INT_ID_o', 'INT_ID_d']))\n",
    "\n",
    "    first_route = cycle_df.iloc[0,2]\n",
    "\n",
    "    #check for cycles where it can be traversed by 1 route, ie eliminate out and back trips\n",
    "    for route in first_route:\n",
    "        if len(cycle_df[cycle_df['route_short_name'].apply(lambda x: route in x)]) == len(cycle_df):\n",
    "            return ward,0,0,1\n",
    "            break\n",
    "        else:\n",
    "            return ward, 1, cycle_df['scaled_freq'].min(), 0"
   ]
  },
  {
   "cell_type": "code",
   "execution_count": null,
   "metadata": {},
   "outputs": [],
   "source": [
    "result_list = []\n",
    "ward_n = []\n",
    "\n",
    "for ward in range(1,26,1):\n",
    "\n",
    "    G_ward = G.copy()\n",
    "\n",
    "\n",
    "    G_ward.remove_nodes_from(list(ward_int[ward_int['AREA_SHORT_CODE'] != ward]['INT_ID_STR']))\n",
    "\n",
    "    N = G_ward.size()\n",
    "\n",
    "    #find cycles\n",
    "    cycle_list = list(nx.simple_cycles(G_ward))\n",
    "    print('Ward ' + str(ward) + ', Size ' + str(N) + ' Found '+ str(len(cycle_list)) + ' cycles')\n",
    "\n",
    "    temp_list = list(map(func, cycle_list))\n",
    "\n",
    "    result_list.append(temp_list)\n",
    "    ward_n.append([ward, N])\n"
   ]
  },
  {
   "cell_type": "code",
   "execution_count": null,
   "metadata": {},
   "outputs": [],
   "source": [
    "combined = list(itertools.chain.from_iterable(result_list))\n",
    "result_df = pd.DataFrame.from_records(\n",
    "    combined, columns = ['ward', 'cycles', 'scaled_cycles', 'removed_cycles']).groupby(\n",
    "    'ward').sum().reset_index()\n",
    "result_df = result_df.merge(pd.DataFrame.from_records(ward_n, columns = ['ward', 'N']))\n",
    "result_df"
   ]
  },
  {
   "cell_type": "code",
   "execution_count": null,
   "metadata": {},
   "outputs": [],
   "source": [
    "result_df['cycle_availability'] = result_df['scaled_cycles']/(2 * result_df['N'] + 5)"
   ]
  },
  {
   "cell_type": "code",
   "execution_count": null,
   "metadata": {},
   "outputs": [],
   "source": [
    "result_df = result_df.merge(ward_int[['AREA_NAME', 'AREA_SHORT_CODE']].drop_duplicates(), left_on = ['ward'], \n",
    "                 right_on = ['AREA_SHORT_CODE']).rename(columns = {'AREA_NAME':'ward_name'}).drop(\n",
    "    columns = ['AREA_SHORT_CODE'])\n",
    "result_df.sort_values(by = 'cycle_availability', ascending = False)"
   ]
  },
  {
   "cell_type": "code",
   "execution_count": null,
   "metadata": {},
   "outputs": [],
   "source": [
    "result_df.to_csv('cycles-' + period + '.csv', index = False)"
   ]
  },
  {
   "cell_type": "code",
   "execution_count": null,
   "metadata": {},
   "outputs": [],
   "source": []
  }
 ],
 "metadata": {
  "kernelspec": {
   "display_name": "Python 3",
   "language": "python",
   "name": "python3"
  },
  "language_info": {
   "codemirror_mode": {
    "name": "ipython",
    "version": 3
   },
   "file_extension": ".py",
   "mimetype": "text/x-python",
   "name": "python",
   "nbconvert_exporter": "python",
   "pygments_lexer": "ipython3",
   "version": "3.8.5"
  }
 },
 "nbformat": 4,
 "nbformat_minor": 4
}
