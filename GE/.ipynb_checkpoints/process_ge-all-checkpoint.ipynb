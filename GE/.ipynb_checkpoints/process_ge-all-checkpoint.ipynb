{
 "cells": [
  {
   "cell_type": "code",
   "execution_count": 1,
   "metadata": {},
   "outputs": [],
   "source": [
    "import pandas as pd\n",
    "import numpy as np\n",
    "import matplotlib as mpl\n",
    "import matplotlib.pyplot as plt\n",
    "import os\n",
    "\n",
    "plt.rcParams['figure.dpi'] = 300"
   ]
  },
  {
   "cell_type": "code",
   "execution_count": 8,
   "metadata": {},
   "outputs": [],
   "source": [
    "period_list = ['EM','AM','MD','PM','EV']\n",
    "df_list = []\n",
    "\n",
    "for period in period_list:\n",
    "    for file in os.listdir(period):\n",
    "        if file.split('.')[1] == 'txt':\n",
    "            continue\n",
    "        if file.split('-')[3] == 'mode':\n",
    "            continue\n",
    "        df = pd.read_csv(period + '/' + file)\n",
    "        df['period'] = period\n",
    "        df_list.append(df)\n",
    "\n",
    "df_all = pd.concat(df_list)"
   ]
  },
  {
   "cell_type": "code",
   "execution_count": 14,
   "metadata": {},
   "outputs": [],
   "source": [
    "tts = pd.read_csv('TTS_TYPE.csv')\n",
    "tts['origin'] = tts['origin'] + 1000\n",
    "tts['destination'] = tts['destination'] + 1000"
   ]
  },
  {
   "cell_type": "code",
   "execution_count": 26,
   "metadata": {},
   "outputs": [],
   "source": [
    "tts['group'] = tts['type'].str.split('_', expand = True)[0]\n",
    "tts['period'] = tts['type'].str.split('_', expand = True)[1].str.upper()"
   ]
  },
  {
   "cell_type": "code",
   "execution_count": 34,
   "metadata": {},
   "outputs": [],
   "source": [
    "total = tts.groupby(['type', 'period', 'group']).sum()[['total']].reset_index()\n",
    "total = total.rename(columns = {'total':'trip_total'})\n",
    "tts = tts.merge(total)"
   ]
  },
  {
   "cell_type": "code",
   "execution_count": 35,
   "metadata": {},
   "outputs": [
    {
     "data": {
      "text/html": [
       "<div>\n",
       "<style scoped>\n",
       "    .dataframe tbody tr th:only-of-type {\n",
       "        vertical-align: middle;\n",
       "    }\n",
       "\n",
       "    .dataframe tbody tr th {\n",
       "        vertical-align: top;\n",
       "    }\n",
       "\n",
       "    .dataframe thead th {\n",
       "        text-align: right;\n",
       "    }\n",
       "</style>\n",
       "<table border=\"1\" class=\"dataframe\">\n",
       "  <thead>\n",
       "    <tr style=\"text-align: right;\">\n",
       "      <th></th>\n",
       "      <th>origin</th>\n",
       "      <th>destination</th>\n",
       "      <th>type</th>\n",
       "      <th>total</th>\n",
       "      <th>group</th>\n",
       "      <th>period</th>\n",
       "      <th>trip_total</th>\n",
       "    </tr>\n",
       "  </thead>\n",
       "  <tbody>\n",
       "    <tr>\n",
       "      <th>0</th>\n",
       "      <td>1001</td>\n",
       "      <td>1018</td>\n",
       "      <td>raw_am</td>\n",
       "      <td>15.000000</td>\n",
       "      <td>raw</td>\n",
       "      <td>AM</td>\n",
       "      <td>211847.000000</td>\n",
       "    </tr>\n",
       "    <tr>\n",
       "      <th>1</th>\n",
       "      <td>1001</td>\n",
       "      <td>1035</td>\n",
       "      <td>raw_am</td>\n",
       "      <td>14.000000</td>\n",
       "      <td>raw</td>\n",
       "      <td>AM</td>\n",
       "      <td>211847.000000</td>\n",
       "    </tr>\n",
       "    <tr>\n",
       "      <th>2</th>\n",
       "      <td>1001</td>\n",
       "      <td>1057</td>\n",
       "      <td>raw_am</td>\n",
       "      <td>20.000000</td>\n",
       "      <td>raw</td>\n",
       "      <td>AM</td>\n",
       "      <td>211847.000000</td>\n",
       "    </tr>\n",
       "    <tr>\n",
       "      <th>3</th>\n",
       "      <td>1001</td>\n",
       "      <td>1068</td>\n",
       "      <td>raw_am</td>\n",
       "      <td>14.000000</td>\n",
       "      <td>raw</td>\n",
       "      <td>AM</td>\n",
       "      <td>211847.000000</td>\n",
       "    </tr>\n",
       "    <tr>\n",
       "      <th>4</th>\n",
       "      <td>1001</td>\n",
       "      <td>1212</td>\n",
       "      <td>raw_am</td>\n",
       "      <td>8.000000</td>\n",
       "      <td>raw</td>\n",
       "      <td>AM</td>\n",
       "      <td>211847.000000</td>\n",
       "    </tr>\n",
       "    <tr>\n",
       "      <th>...</th>\n",
       "      <td>...</td>\n",
       "      <td>...</td>\n",
       "      <td>...</td>\n",
       "      <td>...</td>\n",
       "      <td>...</td>\n",
       "      <td>...</td>\n",
       "      <td>...</td>\n",
       "    </tr>\n",
       "    <tr>\n",
       "      <th>125063</th>\n",
       "      <td>1606</td>\n",
       "      <td>1068</td>\n",
       "      <td>imm_em</td>\n",
       "      <td>0.657501</td>\n",
       "      <td>imm</td>\n",
       "      <td>EM</td>\n",
       "      <td>362.056815</td>\n",
       "    </tr>\n",
       "    <tr>\n",
       "      <th>125064</th>\n",
       "      <td>1606</td>\n",
       "      <td>1415</td>\n",
       "      <td>imm_em</td>\n",
       "      <td>1.266022</td>\n",
       "      <td>imm</td>\n",
       "      <td>EM</td>\n",
       "      <td>362.056815</td>\n",
       "    </tr>\n",
       "    <tr>\n",
       "      <th>125065</th>\n",
       "      <td>1619</td>\n",
       "      <td>1056</td>\n",
       "      <td>imm_em</td>\n",
       "      <td>1.253828</td>\n",
       "      <td>imm</td>\n",
       "      <td>EM</td>\n",
       "      <td>362.056815</td>\n",
       "    </tr>\n",
       "    <tr>\n",
       "      <th>125066</th>\n",
       "      <td>1620</td>\n",
       "      <td>1220</td>\n",
       "      <td>imm_em</td>\n",
       "      <td>1.424503</td>\n",
       "      <td>imm</td>\n",
       "      <td>EM</td>\n",
       "      <td>362.056815</td>\n",
       "    </tr>\n",
       "    <tr>\n",
       "      <th>125067</th>\n",
       "      <td>1621</td>\n",
       "      <td>1063</td>\n",
       "      <td>imm_em</td>\n",
       "      <td>2.730444</td>\n",
       "      <td>imm</td>\n",
       "      <td>EM</td>\n",
       "      <td>362.056815</td>\n",
       "    </tr>\n",
       "  </tbody>\n",
       "</table>\n",
       "<p>125068 rows × 7 columns</p>\n",
       "</div>"
      ],
      "text/plain": [
       "        origin  destination    type      total group period     trip_total\n",
       "0         1001         1018  raw_am  15.000000   raw     AM  211847.000000\n",
       "1         1001         1035  raw_am  14.000000   raw     AM  211847.000000\n",
       "2         1001         1057  raw_am  20.000000   raw     AM  211847.000000\n",
       "3         1001         1068  raw_am  14.000000   raw     AM  211847.000000\n",
       "4         1001         1212  raw_am   8.000000   raw     AM  211847.000000\n",
       "...        ...          ...     ...        ...   ...    ...            ...\n",
       "125063    1606         1068  imm_em   0.657501   imm     EM     362.056815\n",
       "125064    1606         1415  imm_em   1.266022   imm     EM     362.056815\n",
       "125065    1619         1056  imm_em   1.253828   imm     EM     362.056815\n",
       "125066    1620         1220  imm_em   1.424503   imm     EM     362.056815\n",
       "125067    1621         1063  imm_em   2.730444   imm     EM     362.056815\n",
       "\n",
       "[125068 rows x 7 columns]"
      ]
     },
     "execution_count": 35,
     "metadata": {},
     "output_type": "execute_result"
    }
   ],
   "source": [
    "tts"
   ]
  },
  {
   "cell_type": "code",
   "execution_count": 37,
   "metadata": {},
   "outputs": [
    {
     "data": {
      "text/plain": [
       "29124312"
      ]
     },
     "execution_count": 37,
     "metadata": {},
     "output_type": "execute_result"
    }
   ],
   "source": [
    "len(df_all)"
   ]
  },
  {
   "cell_type": "code",
   "execution_count": 38,
   "metadata": {},
   "outputs": [
    {
     "data": {
      "text/plain": [
       "190534998"
      ]
     },
     "execution_count": 38,
     "metadata": {},
     "output_type": "execute_result"
    }
   ],
   "source": [
    "len(df_test)"
   ]
  },
  {
   "cell_type": "code",
   "execution_count": 49,
   "metadata": {},
   "outputs": [],
   "source": [
    "group_list = list(df_test['group'].drop_duplicates())"
   ]
  },
  {
   "cell_type": "code",
   "execution_count": 36,
   "metadata": {},
   "outputs": [],
   "source": [
    "df_test = df_all.merge(tts).copy()"
   ]
  },
  {
   "cell_type": "code",
   "execution_count": 50,
   "metadata": {},
   "outputs": [
    {
     "data": {
      "text/html": [
       "<div>\n",
       "<style scoped>\n",
       "    .dataframe tbody tr th:only-of-type {\n",
       "        vertical-align: middle;\n",
       "    }\n",
       "\n",
       "    .dataframe tbody tr th {\n",
       "        vertical-align: top;\n",
       "    }\n",
       "\n",
       "    .dataframe thead th {\n",
       "        text-align: right;\n",
       "    }\n",
       "</style>\n",
       "<table border=\"1\" class=\"dataframe\">\n",
       "  <thead>\n",
       "    <tr style=\"text-align: right;\">\n",
       "      <th></th>\n",
       "      <th>o_node</th>\n",
       "      <th>d_node</th>\n",
       "      <th>origin</th>\n",
       "      <th>destination</th>\n",
       "      <th>travel_time</th>\n",
       "      <th>iteration</th>\n",
       "      <th>period</th>\n",
       "      <th>Unnamed: 0</th>\n",
       "      <th>type</th>\n",
       "      <th>total</th>\n",
       "      <th>group</th>\n",
       "      <th>trip_total</th>\n",
       "    </tr>\n",
       "  </thead>\n",
       "  <tbody>\n",
       "    <tr>\n",
       "      <th>0</th>\n",
       "      <td>1506-0-4-20</td>\n",
       "      <td>1002-0-99-99</td>\n",
       "      <td>1506.0</td>\n",
       "      <td>1002.0</td>\n",
       "      <td>88.0</td>\n",
       "      <td>0.0</td>\n",
       "      <td>EM</td>\n",
       "      <td>NaN</td>\n",
       "      <td>raw_em</td>\n",
       "      <td>28.000000</td>\n",
       "      <td>raw</td>\n",
       "      <td>4735.000000</td>\n",
       "    </tr>\n",
       "    <tr>\n",
       "      <th>1</th>\n",
       "      <td>1506-0-4-20</td>\n",
       "      <td>1002-0-99-99</td>\n",
       "      <td>1506.0</td>\n",
       "      <td>1002.0</td>\n",
       "      <td>88.0</td>\n",
       "      <td>0.0</td>\n",
       "      <td>EM</td>\n",
       "      <td>NaN</td>\n",
       "      <td>c0_em</td>\n",
       "      <td>28.000000</td>\n",
       "      <td>c0</td>\n",
       "      <td>2317.000000</td>\n",
       "    </tr>\n",
       "    <tr>\n",
       "      <th>2</th>\n",
       "      <td>1506-0-4-20</td>\n",
       "      <td>1002-0-99-99</td>\n",
       "      <td>1506.0</td>\n",
       "      <td>1002.0</td>\n",
       "      <td>88.0</td>\n",
       "      <td>0.0</td>\n",
       "      <td>EM</td>\n",
       "      <td>NaN</td>\n",
       "      <td>lep_em</td>\n",
       "      <td>0.865063</td>\n",
       "      <td>lep</td>\n",
       "      <td>244.880744</td>\n",
       "    </tr>\n",
       "    <tr>\n",
       "      <th>3</th>\n",
       "      <td>1506-0-4-20</td>\n",
       "      <td>1002-0-99-99</td>\n",
       "      <td>1506.0</td>\n",
       "      <td>1002.0</td>\n",
       "      <td>88.0</td>\n",
       "      <td>0.0</td>\n",
       "      <td>EM</td>\n",
       "      <td>NaN</td>\n",
       "      <td>rac_em</td>\n",
       "      <td>17.302286</td>\n",
       "      <td>rac</td>\n",
       "      <td>2702.362035</td>\n",
       "    </tr>\n",
       "    <tr>\n",
       "      <th>4</th>\n",
       "      <td>1506-0-4-20</td>\n",
       "      <td>1002-0-99-99</td>\n",
       "      <td>1506.0</td>\n",
       "      <td>1002.0</td>\n",
       "      <td>88.0</td>\n",
       "      <td>0.0</td>\n",
       "      <td>EM</td>\n",
       "      <td>NaN</td>\n",
       "      <td>ab_em</td>\n",
       "      <td>0.120840</td>\n",
       "      <td>ab</td>\n",
       "      <td>8.001949</td>\n",
       "    </tr>\n",
       "  </tbody>\n",
       "</table>\n",
       "</div>"
      ],
      "text/plain": [
       "        o_node        d_node  origin  destination  travel_time  iteration  \\\n",
       "0  1506-0-4-20  1002-0-99-99  1506.0       1002.0         88.0        0.0   \n",
       "1  1506-0-4-20  1002-0-99-99  1506.0       1002.0         88.0        0.0   \n",
       "2  1506-0-4-20  1002-0-99-99  1506.0       1002.0         88.0        0.0   \n",
       "3  1506-0-4-20  1002-0-99-99  1506.0       1002.0         88.0        0.0   \n",
       "4  1506-0-4-20  1002-0-99-99  1506.0       1002.0         88.0        0.0   \n",
       "\n",
       "  period Unnamed: 0    type      total group   trip_total  \n",
       "0     EM        NaN  raw_em  28.000000   raw  4735.000000  \n",
       "1     EM        NaN   c0_em  28.000000    c0  2317.000000  \n",
       "2     EM        NaN  lep_em   0.865063   lep   244.880744  \n",
       "3     EM        NaN  rac_em  17.302286   rac  2702.362035  \n",
       "4     EM        NaN   ab_em   0.120840    ab     8.001949  "
      ]
     },
     "execution_count": 50,
     "metadata": {},
     "output_type": "execute_result"
    }
   ],
   "source": [
    "df_test.head(5)"
   ]
  },
  {
   "cell_type": "code",
   "execution_count": null,
   "metadata": {},
   "outputs": [
    {
     "name": "stdout",
     "output_type": "stream",
     "text": [
      "EM raw\n",
      "AM raw\n"
     ]
    }
   ],
   "source": [
    "ge_df_list1 = []\n",
    "ge_df_list = []\n",
    "for group in group_list:\n",
    "    \n",
    "    for period in period_list:\n",
    "    \n",
    "        df_iterate = df_test\n",
    "\n",
    "        df_iterate = df_iterate[df_iterate['group'] == group]\n",
    "        df_iterate = df_iterate[df_iterate['period'] == period]\n",
    "\n",
    "        df_iterate['ge_single'] = df_iterate['total']/(df_iterate['travel_time'] * df_iterate['trip_total'])\n",
    "        \n",
    "        df_avg = df_iterate.groupby(['iteration', 'origin', 'destination']).mean()[['ge_single']].reset_index()\n",
    "        df_iterate = df_iterate.groupby('iteration').sum()[['ge_single']].reset_index()\n",
    "        df_iterate['period'] = period\n",
    "        df_iterate['group'] = group\n",
    "        \n",
    "        df_avg['period'] = period\n",
    "        df_avg['group'] = group\n",
    "        \n",
    "        ge_df_list1.append(df_iterate)\n",
    "        ge_df_list.append(df_avg)\n",
    "        \n",
    "        print(period, group)\n",
    "        \n",
    "ge_df1 = pd.concat(ge_df_list1)\n",
    "ge_df = pd.concat(ge_df_list)"
   ]
  },
  {
   "cell_type": "code",
   "execution_count": 42,
   "metadata": {},
   "outputs": [],
   "source": [
    "del(df_test1)"
   ]
  },
  {
   "cell_type": "code",
   "execution_count": 45,
   "metadata": {},
   "outputs": [],
   "source": [
    "del(df_all)"
   ]
  },
  {
   "cell_type": "code",
   "execution_count": 43,
   "metadata": {},
   "outputs": [
    {
     "data": {
      "text/plain": [
       "77509835043"
      ]
     },
     "execution_count": 43,
     "metadata": {},
     "output_type": "execute_result"
    }
   ],
   "source": [
    "import sys\n",
    "sys.getsizeof(df_test)"
   ]
  },
  {
   "cell_type": "code",
   "execution_count": null,
   "metadata": {},
   "outputs": [],
   "source": [
    "ge_df"
   ]
  },
  {
   "cell_type": "code",
   "execution_count": 26,
   "metadata": {},
   "outputs": [
    {
     "data": {
      "text/html": [
       "<div>\n",
       "<style scoped>\n",
       "    .dataframe tbody tr th:only-of-type {\n",
       "        vertical-align: middle;\n",
       "    }\n",
       "\n",
       "    .dataframe tbody tr th {\n",
       "        vertical-align: top;\n",
       "    }\n",
       "\n",
       "    .dataframe thead th {\n",
       "        text-align: right;\n",
       "    }\n",
       "</style>\n",
       "<table border=\"1\" class=\"dataframe\">\n",
       "  <thead>\n",
       "    <tr style=\"text-align: right;\">\n",
       "      <th></th>\n",
       "      <th>period</th>\n",
       "      <th>group</th>\n",
       "      <th>baseline</th>\n",
       "    </tr>\n",
       "  </thead>\n",
       "  <tbody>\n",
       "    <tr>\n",
       "      <th>0</th>\n",
       "      <td>AM</td>\n",
       "      <td>uniform</td>\n",
       "      <td>0.020732</td>\n",
       "    </tr>\n",
       "  </tbody>\n",
       "</table>\n",
       "</div>"
      ],
      "text/plain": [
       "  period    group  baseline\n",
       "0     AM  uniform  0.020732"
      ]
     },
     "execution_count": 26,
     "metadata": {},
     "output_type": "execute_result"
    }
   ],
   "source": [
    "baseline = ge_df[ge_df['iteration'] == 0][['period', 'group', 'ge_single']]\n",
    "baseline = baseline.rename(columns = {'ge_single':'baseline'})\n",
    "baseline"
   ]
  },
  {
   "cell_type": "code",
   "execution_count": 29,
   "metadata": {},
   "outputs": [
    {
     "data": {
      "text/html": [
       "<div>\n",
       "<style scoped>\n",
       "    .dataframe tbody tr th:only-of-type {\n",
       "        vertical-align: middle;\n",
       "    }\n",
       "\n",
       "    .dataframe tbody tr th {\n",
       "        vertical-align: top;\n",
       "    }\n",
       "\n",
       "    .dataframe thead th {\n",
       "        text-align: right;\n",
       "    }\n",
       "</style>\n",
       "<table border=\"1\" class=\"dataframe\">\n",
       "  <thead>\n",
       "    <tr style=\"text-align: right;\">\n",
       "      <th></th>\n",
       "      <th>iteration</th>\n",
       "      <th>ge_single</th>\n",
       "      <th>period</th>\n",
       "      <th>group</th>\n",
       "      <th>baseline</th>\n",
       "      <th>ge</th>\n",
       "    </tr>\n",
       "  </thead>\n",
       "  <tbody>\n",
       "    <tr>\n",
       "      <th>0</th>\n",
       "      <td>0</td>\n",
       "      <td>0.020732</td>\n",
       "      <td>AM</td>\n",
       "      <td>uniform</td>\n",
       "      <td>0.020732</td>\n",
       "      <td>100.000000</td>\n",
       "    </tr>\n",
       "    <tr>\n",
       "      <th>1</th>\n",
       "      <td>1</td>\n",
       "      <td>0.020429</td>\n",
       "      <td>AM</td>\n",
       "      <td>uniform</td>\n",
       "      <td>0.020732</td>\n",
       "      <td>98.537667</td>\n",
       "    </tr>\n",
       "    <tr>\n",
       "      <th>2</th>\n",
       "      <td>2</td>\n",
       "      <td>0.020419</td>\n",
       "      <td>AM</td>\n",
       "      <td>uniform</td>\n",
       "      <td>0.020732</td>\n",
       "      <td>98.492219</td>\n",
       "    </tr>\n",
       "    <tr>\n",
       "      <th>3</th>\n",
       "      <td>3</td>\n",
       "      <td>0.019989</td>\n",
       "      <td>AM</td>\n",
       "      <td>uniform</td>\n",
       "      <td>0.020732</td>\n",
       "      <td>96.416381</td>\n",
       "    </tr>\n",
       "    <tr>\n",
       "      <th>4</th>\n",
       "      <td>4</td>\n",
       "      <td>0.019988</td>\n",
       "      <td>AM</td>\n",
       "      <td>uniform</td>\n",
       "      <td>0.020732</td>\n",
       "      <td>96.410323</td>\n",
       "    </tr>\n",
       "    <tr>\n",
       "      <th>...</th>\n",
       "      <td>...</td>\n",
       "      <td>...</td>\n",
       "      <td>...</td>\n",
       "      <td>...</td>\n",
       "      <td>...</td>\n",
       "      <td>...</td>\n",
       "    </tr>\n",
       "    <tr>\n",
       "      <th>253</th>\n",
       "      <td>253</td>\n",
       "      <td>0.004800</td>\n",
       "      <td>AM</td>\n",
       "      <td>uniform</td>\n",
       "      <td>0.020732</td>\n",
       "      <td>23.152864</td>\n",
       "    </tr>\n",
       "    <tr>\n",
       "      <th>254</th>\n",
       "      <td>254</td>\n",
       "      <td>0.004781</td>\n",
       "      <td>AM</td>\n",
       "      <td>uniform</td>\n",
       "      <td>0.020732</td>\n",
       "      <td>23.061582</td>\n",
       "    </tr>\n",
       "    <tr>\n",
       "      <th>255</th>\n",
       "      <td>255</td>\n",
       "      <td>0.004767</td>\n",
       "      <td>AM</td>\n",
       "      <td>uniform</td>\n",
       "      <td>0.020732</td>\n",
       "      <td>22.992708</td>\n",
       "    </tr>\n",
       "    <tr>\n",
       "      <th>256</th>\n",
       "      <td>256</td>\n",
       "      <td>0.004722</td>\n",
       "      <td>AM</td>\n",
       "      <td>uniform</td>\n",
       "      <td>0.020732</td>\n",
       "      <td>22.774591</td>\n",
       "    </tr>\n",
       "    <tr>\n",
       "      <th>257</th>\n",
       "      <td>257</td>\n",
       "      <td>0.004721</td>\n",
       "      <td>AM</td>\n",
       "      <td>uniform</td>\n",
       "      <td>0.020732</td>\n",
       "      <td>22.772791</td>\n",
       "    </tr>\n",
       "  </tbody>\n",
       "</table>\n",
       "<p>258 rows × 6 columns</p>\n",
       "</div>"
      ],
      "text/plain": [
       "     iteration  ge_single period    group  baseline          ge\n",
       "0            0   0.020732     AM  uniform  0.020732  100.000000\n",
       "1            1   0.020429     AM  uniform  0.020732   98.537667\n",
       "2            2   0.020419     AM  uniform  0.020732   98.492219\n",
       "3            3   0.019989     AM  uniform  0.020732   96.416381\n",
       "4            4   0.019988     AM  uniform  0.020732   96.410323\n",
       "..         ...        ...    ...      ...       ...         ...\n",
       "253        253   0.004800     AM  uniform  0.020732   23.152864\n",
       "254        254   0.004781     AM  uniform  0.020732   23.061582\n",
       "255        255   0.004767     AM  uniform  0.020732   22.992708\n",
       "256        256   0.004722     AM  uniform  0.020732   22.774591\n",
       "257        257   0.004721     AM  uniform  0.020732   22.772791\n",
       "\n",
       "[258 rows x 6 columns]"
      ]
     },
     "execution_count": 29,
     "metadata": {},
     "output_type": "execute_result"
    }
   ],
   "source": [
    "ge_df = ge_df.merge(baseline)\n",
    "ge_df['ge'] = ge_df['ge_single']/ge_df['baseline'] * 100 \n",
    "ge_df"
   ]
  },
  {
   "cell_type": "code",
   "execution_count": 35,
   "metadata": {},
   "outputs": [],
   "source": [
    "edge_counter = []\n",
    "edge = 0\n",
    "for i in range(500): #500 is the max iteration we probably will calculate to\n",
    "    \n",
    "    if i == 0:\n",
    "        pass\n",
    "    elif i <= 50:\n",
    "        edge = edge + 1\n",
    "    elif i <= 100:\n",
    "        edge = edge + 5\n",
    "    elif i <= 150:\n",
    "        edge = edge + 25\n",
    "    elif i <= 200:\n",
    "        edge = edge + 50\n",
    "    else:\n",
    "        edge = edge + 100\n",
    "    \n",
    "    edge_counter.append([i, edge])\n",
    "    \n",
    "edge_counter_df = pd.DataFrame.from_records(edge_counter, columns = ['iteration', 'edges_removed'])"
   ]
  },
  {
   "cell_type": "code",
   "execution_count": 37,
   "metadata": {},
   "outputs": [],
   "source": [
    "ge_df = ge_df.merge(edge_counter_df)"
   ]
  },
  {
   "cell_type": "code",
   "execution_count": 56,
   "metadata": {},
   "outputs": [
    {
     "data": {
      "text/plain": [
       "(80.0, 100.0)"
      ]
     },
     "execution_count": 56,
     "metadata": {},
     "output_type": "execute_result"
    },
    {
     "data": {
      "image/png": "[encoded data removed]",
      "text/plain": [
       "<Figure size 840x560 with 1 Axes>"
      ]
     },
     "metadata": {
      "needs_background": "light"
     },
     "output_type": "display_data"
    }
   ],
   "source": [
    "fig, ax = plt.subplots()\n",
    "\n",
    "plt.plot(ge_df['edges_removed'], ge_df['ge'])\n",
    "ax.set_xlim([0,50])\n",
    "ax.set_ylim([80,100])"
   ]
  },
  {
   "cell_type": "code",
   "execution_count": 54,
   "metadata": {},
   "outputs": [
    {
     "data": {
      "image/png": "[encoded data removed]",
      "text/plain": [
       "<Figure size 840x560 with 1 Axes>"
      ]
     },
     "metadata": {
      "needs_background": "light"
     },
     "output_type": "display_data"
    }
   ],
   "source": [
    "fig, ax = plt.subplots()\n",
    "\n",
    "plt.plot(ge_df['edges_removed'], ge_df['ge'])\n",
    "ax.set_xlim([0,9000])\n",
    "plt.show()"
   ]
  },
  {
   "cell_type": "code",
   "execution_count": 113,
   "metadata": {},
   "outputs": [
    {
     "data": {
      "image/png": "[encoded data removed]",
      "text/plain": [
       "<Figure size 910x1190 with 11 Axes>"
      ]
     },
     "metadata": {
      "needs_background": "light"
     },
     "output_type": "display_data"
    }
   ],
   "source": [
    "fig, ax = plt.subplots(5,2)\n",
    "\n",
    "i = 0\n",
    "\n",
    "for period in period_list:\n",
    "    \n",
    "    df_sub = ge_df[ge_df['period'] == period]\n",
    "    \n",
    "    for group in df_sub['group'].drop_duplicates():\n",
    "        ax[i,0].plot(ge_df['edges_removed'], ge_df['ge'], label = group)\n",
    "        ax[i,1].plot(ge_df['edges_removed'], ge_df['ge'], label = group)\n",
    "    \n",
    "    ax[i,0].set_xlim([0,9000])\n",
    "    ax[i,1].set_xlim([0,50])\n",
    "    \n",
    "    ax[i,0].set_ylim([0,100])\n",
    "    ax[i,1].set_ylim([85,100])\n",
    "    \n",
    "    ax[i,0].set_yticks([0,20,40,60,80,100])\n",
    "    \n",
    "    ax[i,0].set_xticklabels('')\n",
    "    ax[i,1].set_xticklabels('')\n",
    "    \n",
    "    ax[i,0].text(s = period + ' Network', x =5500, y = 84)\n",
    "    ax[i,1].text(s = period + ' Network', x =30.5, y = 97.55)\n",
    "\n",
    "\n",
    "    ax[i,0].grid(color = 'xkcd:light grey')\n",
    "    ax[i,1].grid(color = 'xkcd:light grey')\n",
    "    \n",
    "    \n",
    "    \n",
    "    i = i + 1\n",
    "\n",
    "ax[4,0].set_xlim([0,8000])\n",
    "ax[4,1].set_xlim([0,50])\n",
    "\n",
    "fig.add_subplot(111, frameon=False)\n",
    "\n",
    "\n",
    "plt.xlabel('Number of Route Segments Removed')\n",
    "plt.ylabel('Percentage Population Weighted Global Efficiency')\n",
    "plt.tick_params(labelcolor='none', top=False, bottom=False, left=False, right=False)\n",
    "plt.grid(False)\n",
    "\n",
    "fig.set_size_inches(6.5,8.5)"
   ]
  },
  {
   "cell_type": "code",
   "execution_count": null,
   "metadata": {},
   "outputs": [],
   "source": []
  }
 ],
 "metadata": {
  "kernelspec": {
   "display_name": "Python 3",
   "language": "python",
   "name": "python3"
  },
  "language_info": {
   "codemirror_mode": {
    "name": "ipython",
    "version": 3
   },
   "file_extension": ".py",
   "mimetype": "text/x-python",
   "name": "python",
   "nbconvert_exporter": "python",
   "pygments_lexer": "ipython3",
   "version": "3.8.5"
  }
 },
 "nbformat": 4,
 "nbformat_minor": 4
}
