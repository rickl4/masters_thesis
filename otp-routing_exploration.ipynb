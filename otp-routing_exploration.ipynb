{
 "cells": [
  {
   "cell_type": "code",
   "execution_count": 1,
   "metadata": {},
   "outputs": [],
   "source": [
    "import pandas as pd\n",
    "import requests\n",
    "import json\n",
    "import datetime"
   ]
  },
  {
   "cell_type": "markdown",
   "metadata": {},
   "source": [
    "`java -Xmx10G -jar otp-2.0.0-shaded.jar --load ttc-weekday`"
   ]
  },
  {
   "cell_type": "code",
   "execution_count": 2,
   "metadata": {},
   "outputs": [],
   "source": [
    "mode = 'TRANSIT'"
   ]
  },
  {
   "cell_type": "code",
   "execution_count": 3,
   "metadata": {},
   "outputs": [],
   "source": [
    "simplify_dir = 'GTFS/TTC_2016-08-05/GIS Simplify/'\n",
    "gtfs_dir = 'GTFS/TTC_2016-08-05/'"
   ]
  },
  {
   "cell_type": "code",
   "execution_count": 4,
   "metadata": {},
   "outputs": [],
   "source": [
    "def return_itineraries(ox,oy,dx,dy,date_us,hr,minute,window):\n",
    "\n",
    "\t# parameters\n",
    "    options = {\n",
    "   \t\t'fromPlace': str(oy) + \", \" + str(ox),\n",
    "   \t\t'toPlace': str(dy) + \", \" + str(dx),\n",
    "   \t\t'time': str(hr)+':' + minute,\n",
    "   \t\t'date': date_us,\n",
    "   \t\t'mode': mode+',WALK',\n",
    "   \t\t'maxWalkDistance':5000,\n",
    "   \t\t'clampInitialWait':0,\n",
    "   \t\t'wheelchair':False,\n",
    "   \t\t'searchWindow':window*60\n",
    "\n",
    "\n",
    "   \t}\n",
    "   \n",
    "   \t# send to server and get data\n",
    "    response = requests.get(\n",
    "   \t\t\"http://localhost:8080/otp/routers/default/plan\",\n",
    "   \t\tparams = options\n",
    "           )\n",
    "    # return as json\n",
    "    data = json.loads(response.text)\n",
    "    return data"
   ]
  },
  {
   "cell_type": "code",
   "execution_count": 5,
   "metadata": {},
   "outputs": [],
   "source": [
    "stops = pd.read_csv(simplify_dir + 'int_stop_full.csv')"
   ]
  },
  {
   "cell_type": "code",
   "execution_count": 6,
   "metadata": {},
   "outputs": [],
   "source": [
    "ox = stops[stops['INT_ID']==13465489]['int_lon'].iloc[0]\n",
    "oy = stops[stops['INT_ID']==13465489]['int_lat'].iloc[0]"
   ]
  },
  {
   "cell_type": "code",
   "execution_count": 7,
   "metadata": {},
   "outputs": [],
   "source": [
    "dx = stops[stops['INT_ID']==13442679]['int_lon'].iloc[0]\n",
    "dy = stops[stops['INT_ID']==13442679]['int_lat'].iloc[0]"
   ]
  },
  {
   "cell_type": "code",
   "execution_count": 8,
   "metadata": {},
   "outputs": [],
   "source": [
    "date_us = '2016-08-16'\n",
    "hr = 8\n",
    "minute = '00'\n",
    "window = 10"
   ]
  },
  {
   "cell_type": "code",
   "execution_count": 9,
   "metadata": {},
   "outputs": [],
   "source": [
    "result = return_itineraries(ox,oy,dx,dy,date_us,hr,minute, window)"
   ]
  },
  {
   "cell_type": "code",
   "execution_count": 10,
   "metadata": {},
   "outputs": [
    {
     "data": {
      "text/plain": [
       "2"
      ]
     },
     "execution_count": 10,
     "metadata": {},
     "output_type": "execute_result"
    }
   ],
   "source": [
    "len(result['plan']['itineraries'])"
   ]
  },
  {
   "cell_type": "code",
   "execution_count": 11,
   "metadata": {},
   "outputs": [
    {
     "name": "stdout",
     "output_type": "stream",
     "text": [
      "08:07:00 09:19:32 72.53333333333333\n",
      "08:09:28 09:43:23 93.91666666666667\n"
     ]
    }
   ],
   "source": [
    "for i in result['plan']['itineraries']:\n",
    "    \n",
    "    start = datetime.datetime.fromtimestamp(i['startTime']/1000)\n",
    "    end = datetime.datetime.fromtimestamp(i['endTime']/1000)\n",
    "    print(start.strftime('%H:%M:%S'), end.strftime('%H:%M:%S'), i['duration']/60)"
   ]
  },
  {
   "cell_type": "code",
   "execution_count": 12,
   "metadata": {
    "scrolled": true
   },
   "outputs": [],
   "source": [
    "def return_banned(ox,oy,dx,dy,date_us,hr,minute,window,banned):\n",
    "\n",
    "    options = {\n",
    "        'fromPlace': str(oy) + \", \" + str(ox),\n",
    "        'toPlace': str(dy) + \", \" + str(dx),\n",
    "        'time': str(hr)+':' + minute,\n",
    "        'date': date_us,\n",
    "        #'mode': mode+',WALK',\n",
    "        'mode':'WALK',\n",
    "        'maxWalkDistance':10000,\n",
    "        'clampInitialWait':0,\n",
    "        'wheelchair':False,\n",
    "        'searchWindow':window*60\n",
    "        #'bannedStops':banned\n",
    "        #'bannedRoutes':banned_routes\n",
    "    }\n",
    "\n",
    "    print(banned)\n",
    "\n",
    "    response = requests.get(\n",
    "        \"http://localhost:8080/otp/routers/default/plan\",\n",
    "        params = options\n",
    "           )\n",
    "    # return as json\n",
    "    data = json.loads(response.text)\n",
    "    return data"
   ]
  },
  {
   "cell_type": "code",
   "execution_count": 13,
   "metadata": {},
   "outputs": [],
   "source": [
    "oy = '43.82135204677734'\n",
    "ox = '-79.1877017544621'"
   ]
  },
  {
   "cell_type": "code",
   "execution_count": 14,
   "metadata": {},
   "outputs": [
    {
     "name": "stdout",
     "output_type": "stream",
     "text": [
      "ttc__228\n"
     ]
    }
   ],
   "source": [
    "result = return_banned(ox,oy,dx,dy,date_us,hr,minute, window, 'ttc__228')"
   ]
  },
  {
   "cell_type": "code",
   "execution_count": 15,
   "metadata": {},
   "outputs": [
    {
     "data": {
      "text/plain": [
       "1"
      ]
     },
     "execution_count": 15,
     "metadata": {},
     "output_type": "execute_result"
    }
   ],
   "source": [
    "len(result['plan']['itineraries'])"
   ]
  },
  {
   "cell_type": "code",
   "execution_count": 16,
   "metadata": {},
   "outputs": [
    {
     "name": "stdout",
     "output_type": "stream",
     "text": [
      "08:00:00 08:46:43 46.71666666666667\n"
     ]
    }
   ],
   "source": [
    "for i in result['plan']['itineraries']:\n",
    "    \n",
    "    start = datetime.datetime.fromtimestamp(i['startTime']/1000)\n",
    "    end = datetime.datetime.fromtimestamp(i['endTime']/1000)\n",
    "    print(start.strftime('%H:%M:%S'), end.strftime('%H:%M:%S'), i['duration']/60)"
   ]
  },
  {
   "cell_type": "code",
   "execution_count": 17,
   "metadata": {},
   "outputs": [
    {
     "data": {
      "text/plain": [
       "2803"
      ]
     },
     "execution_count": 17,
     "metadata": {},
     "output_type": "execute_result"
    }
   ],
   "source": [
    "result['plan']['itineraries'][0]['duration']"
   ]
  },
  {
   "cell_type": "code",
   "execution_count": 20,
   "metadata": {},
   "outputs": [
    {
     "data": {
      "text/plain": [
       "2803"
      ]
     },
     "execution_count": 20,
     "metadata": {},
     "output_type": "execute_result"
    }
   ],
   "source": [
    "result['plan']['itineraries'][0]['duration']"
   ]
  },
  {
   "cell_type": "code",
   "execution_count": null,
   "metadata": {},
   "outputs": [],
   "source": []
  }
 ],
 "metadata": {
  "kernelspec": {
   "display_name": "Python 3",
   "language": "python",
   "name": "python3"
  },
  "language_info": {
   "codemirror_mode": {
    "name": "ipython",
    "version": 3
   },
   "file_extension": ".py",
   "mimetype": "text/x-python",
   "name": "python",
   "nbconvert_exporter": "python",
   "pygments_lexer": "ipython3",
   "version": "3.7.6"
  }
 },
 "nbformat": 4,
 "nbformat_minor": 4
}
