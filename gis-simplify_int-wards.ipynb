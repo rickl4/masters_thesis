{
 "cells": [
  {
   "cell_type": "code",
   "execution_count": 1,
   "metadata": {},
   "outputs": [],
   "source": [
    "import geopandas as gpd\n",
    "import pandas as pd\n",
    "import numpy as np"
   ]
  },
  {
   "cell_type": "code",
   "execution_count": 2,
   "metadata": {},
   "outputs": [],
   "source": [
    "simplify_dir = 'GTFS/stop_snapping/GIS Simplify/'\n",
    "gtfs_dir = 'GTFS/TTC_2016-10-03/'"
   ]
  },
  {
   "cell_type": "code",
   "execution_count": 3,
   "metadata": {},
   "outputs": [],
   "source": [
    "int_stop = pd.read_csv(simplify_dir + 'int_stop.csv')"
   ]
  },
  {
   "cell_type": "code",
   "execution_count": 4,
   "metadata": {},
   "outputs": [],
   "source": [
    "int_stop = gpd.GeoDataFrame(\n",
    "    int_stop, geometry=gpd.points_from_xy(int_stop.int_lon, int_stop.int_lat))"
   ]
  },
  {
   "cell_type": "code",
   "execution_count": 5,
   "metadata": {},
   "outputs": [],
   "source": [
    "wards = gpd.read_file('GIS/City Wards Data.geojson')"
   ]
  },
  {
   "cell_type": "code",
   "execution_count": 6,
   "metadata": {},
   "outputs": [],
   "source": [
    "int_stop = int_stop.set_crs(epsg = '4326')"
   ]
  },
  {
   "cell_type": "code",
   "execution_count": 7,
   "metadata": {
    "scrolled": false
   },
   "outputs": [
    {
     "data": {
      "text/html": [
       "<div>\n",
       "<style scoped>\n",
       "    .dataframe tbody tr th:only-of-type {\n",
       "        vertical-align: middle;\n",
       "    }\n",
       "\n",
       "    .dataframe tbody tr th {\n",
       "        vertical-align: top;\n",
       "    }\n",
       "\n",
       "    .dataframe thead th {\n",
       "        text-align: right;\n",
       "    }\n",
       "</style>\n",
       "<table border=\"1\" class=\"dataframe\">\n",
       "  <thead>\n",
       "    <tr style=\"text-align: right;\">\n",
       "      <th></th>\n",
       "      <th>INT_ID</th>\n",
       "      <th>int_lon</th>\n",
       "      <th>int_lat</th>\n",
       "      <th>geometry</th>\n",
       "    </tr>\n",
       "  </thead>\n",
       "  <tbody>\n",
       "    <tr>\n",
       "      <th>0</th>\n",
       "      <td>110</td>\n",
       "      <td>-79.396989</td>\n",
       "      <td>43.697748</td>\n",
       "      <td>POINT (-79.39699 43.69775)</td>\n",
       "    </tr>\n",
       "    <tr>\n",
       "      <th>1</th>\n",
       "      <td>205</td>\n",
       "      <td>-79.475991</td>\n",
       "      <td>43.652048</td>\n",
       "      <td>POINT (-79.47599 43.65205)</td>\n",
       "    </tr>\n",
       "    <tr>\n",
       "      <th>2</th>\n",
       "      <td>214</td>\n",
       "      <td>-79.403889</td>\n",
       "      <td>43.667249</td>\n",
       "      <td>POINT (-79.40389 43.66725)</td>\n",
       "    </tr>\n",
       "    <tr>\n",
       "      <th>3</th>\n",
       "      <td>208</td>\n",
       "      <td>-79.452723</td>\n",
       "      <td>43.657023</td>\n",
       "      <td>POINT (-79.45272 43.65702)</td>\n",
       "    </tr>\n",
       "    <tr>\n",
       "      <th>4</th>\n",
       "      <td>115</td>\n",
       "      <td>-79.412755</td>\n",
       "      <td>43.767867</td>\n",
       "      <td>POINT (-79.41276 43.76787)</td>\n",
       "    </tr>\n",
       "    <tr>\n",
       "      <th>...</th>\n",
       "      <td>...</td>\n",
       "      <td>...</td>\n",
       "      <td>...</td>\n",
       "      <td>...</td>\n",
       "    </tr>\n",
       "    <tr>\n",
       "      <th>3527</th>\n",
       "      <td>13460349</td>\n",
       "      <td>-79.363253</td>\n",
       "      <td>43.687296</td>\n",
       "      <td>POINT (-79.36325 43.68730)</td>\n",
       "    </tr>\n",
       "    <tr>\n",
       "      <th>3528</th>\n",
       "      <td>13459088</td>\n",
       "      <td>-79.273038</td>\n",
       "      <td>43.692872</td>\n",
       "      <td>POINT (-79.27304 43.69287)</td>\n",
       "    </tr>\n",
       "    <tr>\n",
       "      <th>3529</th>\n",
       "      <td>13456297</td>\n",
       "      <td>-79.265758</td>\n",
       "      <td>43.709715</td>\n",
       "      <td>POINT (-79.26576 43.70971)</td>\n",
       "    </tr>\n",
       "    <tr>\n",
       "      <th>3530</th>\n",
       "      <td>13441958</td>\n",
       "      <td>-79.175723</td>\n",
       "      <td>43.818247</td>\n",
       "      <td>POINT (-79.17572 43.81825)</td>\n",
       "    </tr>\n",
       "    <tr>\n",
       "      <th>3531</th>\n",
       "      <td>13458312</td>\n",
       "      <td>-79.263999</td>\n",
       "      <td>43.696994</td>\n",
       "      <td>POINT (-79.26400 43.69699)</td>\n",
       "    </tr>\n",
       "  </tbody>\n",
       "</table>\n",
       "<p>3532 rows × 4 columns</p>\n",
       "</div>"
      ],
      "text/plain": [
       "        INT_ID    int_lon    int_lat                    geometry\n",
       "0          110 -79.396989  43.697748  POINT (-79.39699 43.69775)\n",
       "1          205 -79.475991  43.652048  POINT (-79.47599 43.65205)\n",
       "2          214 -79.403889  43.667249  POINT (-79.40389 43.66725)\n",
       "3          208 -79.452723  43.657023  POINT (-79.45272 43.65702)\n",
       "4          115 -79.412755  43.767867  POINT (-79.41276 43.76787)\n",
       "...        ...        ...        ...                         ...\n",
       "3527  13460349 -79.363253  43.687296  POINT (-79.36325 43.68730)\n",
       "3528  13459088 -79.273038  43.692872  POINT (-79.27304 43.69287)\n",
       "3529  13456297 -79.265758  43.709715  POINT (-79.26576 43.70971)\n",
       "3530  13441958 -79.175723  43.818247  POINT (-79.17572 43.81825)\n",
       "3531  13458312 -79.263999  43.696994  POINT (-79.26400 43.69699)\n",
       "\n",
       "[3532 rows x 4 columns]"
      ]
     },
     "execution_count": 7,
     "metadata": {},
     "output_type": "execute_result"
    }
   ],
   "source": [
    "int_stop"
   ]
  },
  {
   "cell_type": "code",
   "execution_count": 8,
   "metadata": {},
   "outputs": [],
   "source": [
    "int_stop_buffer = int_stop.copy().to_crs(epsg = '32617')"
   ]
  },
  {
   "cell_type": "code",
   "execution_count": 9,
   "metadata": {},
   "outputs": [],
   "source": [
    "int_stop_buffer['geometry'] = int_stop_buffer.buffer(50)"
   ]
  },
  {
   "cell_type": "code",
   "execution_count": 10,
   "metadata": {},
   "outputs": [],
   "source": [
    "int_wards = gpd.sjoin(wards.to_crs(epsg = '32617'), int_stop_buffer, op = 'intersects', how = 'right')[['AREA_NAME', 'AREA_SHORT_CODE', 'INT_ID']]"
   ]
  },
  {
   "cell_type": "code",
   "execution_count": 11,
   "metadata": {},
   "outputs": [
    {
     "data": {
      "text/html": [
       "<div>\n",
       "<style scoped>\n",
       "    .dataframe tbody tr th:only-of-type {\n",
       "        vertical-align: middle;\n",
       "    }\n",
       "\n",
       "    .dataframe tbody tr th {\n",
       "        vertical-align: top;\n",
       "    }\n",
       "\n",
       "    .dataframe thead th {\n",
       "        text-align: right;\n",
       "    }\n",
       "</style>\n",
       "<table border=\"1\" class=\"dataframe\">\n",
       "  <thead>\n",
       "    <tr style=\"text-align: right;\">\n",
       "      <th></th>\n",
       "      <th>AREA_NAME</th>\n",
       "      <th>AREA_SHORT_CODE</th>\n",
       "      <th>INT_ID</th>\n",
       "    </tr>\n",
       "  </thead>\n",
       "  <tbody>\n",
       "    <tr>\n",
       "      <th>0</th>\n",
       "      <td>Toronto-St. Paul's</td>\n",
       "      <td>12</td>\n",
       "      <td>110</td>\n",
       "    </tr>\n",
       "    <tr>\n",
       "      <th>1</th>\n",
       "      <td>Parkdale-High Park</td>\n",
       "      <td>4</td>\n",
       "      <td>205</td>\n",
       "    </tr>\n",
       "    <tr>\n",
       "      <th>2</th>\n",
       "      <td>University-Rosedale</td>\n",
       "      <td>11</td>\n",
       "      <td>214</td>\n",
       "    </tr>\n",
       "    <tr>\n",
       "      <th>3</th>\n",
       "      <td>Parkdale-High Park</td>\n",
       "      <td>4</td>\n",
       "      <td>208</td>\n",
       "    </tr>\n",
       "    <tr>\n",
       "      <th>4</th>\n",
       "      <td>Willowdale</td>\n",
       "      <td>18</td>\n",
       "      <td>115</td>\n",
       "    </tr>\n",
       "    <tr>\n",
       "      <th>...</th>\n",
       "      <td>...</td>\n",
       "      <td>...</td>\n",
       "      <td>...</td>\n",
       "    </tr>\n",
       "    <tr>\n",
       "      <th>3527</th>\n",
       "      <td>University-Rosedale</td>\n",
       "      <td>11</td>\n",
       "      <td>13460349</td>\n",
       "    </tr>\n",
       "    <tr>\n",
       "      <th>3528</th>\n",
       "      <td>Scarborough Southwest</td>\n",
       "      <td>20</td>\n",
       "      <td>13459088</td>\n",
       "    </tr>\n",
       "    <tr>\n",
       "      <th>3529</th>\n",
       "      <td>Scarborough Southwest</td>\n",
       "      <td>20</td>\n",
       "      <td>13456297</td>\n",
       "    </tr>\n",
       "    <tr>\n",
       "      <th>3530</th>\n",
       "      <td>Scarborough-Rouge Park</td>\n",
       "      <td>25</td>\n",
       "      <td>13441958</td>\n",
       "    </tr>\n",
       "    <tr>\n",
       "      <th>3531</th>\n",
       "      <td>Scarborough Southwest</td>\n",
       "      <td>20</td>\n",
       "      <td>13458312</td>\n",
       "    </tr>\n",
       "  </tbody>\n",
       "</table>\n",
       "<p>3935 rows × 3 columns</p>\n",
       "</div>"
      ],
      "text/plain": [
       "                   AREA_NAME  AREA_SHORT_CODE    INT_ID\n",
       "0         Toronto-St. Paul's               12       110\n",
       "1         Parkdale-High Park                4       205\n",
       "2        University-Rosedale               11       214\n",
       "3         Parkdale-High Park                4       208\n",
       "4                 Willowdale               18       115\n",
       "...                      ...              ...       ...\n",
       "3527     University-Rosedale               11  13460349\n",
       "3528   Scarborough Southwest               20  13459088\n",
       "3529   Scarborough Southwest               20  13456297\n",
       "3530  Scarborough-Rouge Park               25  13441958\n",
       "3531   Scarborough Southwest               20  13458312\n",
       "\n",
       "[3935 rows x 3 columns]"
      ]
     },
     "execution_count": 11,
     "metadata": {},
     "output_type": "execute_result"
    }
   ],
   "source": [
    "int_wards"
   ]
  },
  {
   "cell_type": "code",
   "execution_count": 12,
   "metadata": {},
   "outputs": [],
   "source": [
    "#int_stop[int_stop['INT_ID'].isin(list(int_wards[int_wards['AREA_SHORT_CODE'].isna()]['INT_ID']))].plot()"
   ]
  },
  {
   "cell_type": "code",
   "execution_count": 13,
   "metadata": {},
   "outputs": [],
   "source": [
    "#int_stop[int_stop['INT_ID'].isin(list(int_wards[int_wards['AREA_SHORT_CODE'].isna()]['INT_ID']))].to_file('GIS/steeles.geojson', driver = 'GeoJSON')"
   ]
  },
  {
   "cell_type": "code",
   "execution_count": 14,
   "metadata": {},
   "outputs": [
    {
     "data": {
      "text/html": [
       "<div>\n",
       "<style scoped>\n",
       "    .dataframe tbody tr th:only-of-type {\n",
       "        vertical-align: middle;\n",
       "    }\n",
       "\n",
       "    .dataframe tbody tr th {\n",
       "        vertical-align: top;\n",
       "    }\n",
       "\n",
       "    .dataframe thead th {\n",
       "        text-align: right;\n",
       "    }\n",
       "</style>\n",
       "<table border=\"1\" class=\"dataframe\">\n",
       "  <thead>\n",
       "    <tr style=\"text-align: right;\">\n",
       "      <th></th>\n",
       "      <th>AREA_NAME</th>\n",
       "      <th>AREA_SHORT_CODE</th>\n",
       "      <th>INT_ID</th>\n",
       "    </tr>\n",
       "  </thead>\n",
       "  <tbody>\n",
       "    <tr>\n",
       "      <th>0</th>\n",
       "      <td>Toronto-St. Paul's</td>\n",
       "      <td>12</td>\n",
       "      <td>110</td>\n",
       "    </tr>\n",
       "    <tr>\n",
       "      <th>1</th>\n",
       "      <td>Parkdale-High Park</td>\n",
       "      <td>4</td>\n",
       "      <td>205</td>\n",
       "    </tr>\n",
       "    <tr>\n",
       "      <th>2</th>\n",
       "      <td>University-Rosedale</td>\n",
       "      <td>11</td>\n",
       "      <td>214</td>\n",
       "    </tr>\n",
       "    <tr>\n",
       "      <th>3</th>\n",
       "      <td>Parkdale-High Park</td>\n",
       "      <td>4</td>\n",
       "      <td>208</td>\n",
       "    </tr>\n",
       "    <tr>\n",
       "      <th>4</th>\n",
       "      <td>Willowdale</td>\n",
       "      <td>18</td>\n",
       "      <td>115</td>\n",
       "    </tr>\n",
       "    <tr>\n",
       "      <th>...</th>\n",
       "      <td>...</td>\n",
       "      <td>...</td>\n",
       "      <td>...</td>\n",
       "    </tr>\n",
       "    <tr>\n",
       "      <th>3527</th>\n",
       "      <td>University-Rosedale</td>\n",
       "      <td>11</td>\n",
       "      <td>13460349</td>\n",
       "    </tr>\n",
       "    <tr>\n",
       "      <th>3528</th>\n",
       "      <td>Scarborough Southwest</td>\n",
       "      <td>20</td>\n",
       "      <td>13459088</td>\n",
       "    </tr>\n",
       "    <tr>\n",
       "      <th>3529</th>\n",
       "      <td>Scarborough Southwest</td>\n",
       "      <td>20</td>\n",
       "      <td>13456297</td>\n",
       "    </tr>\n",
       "    <tr>\n",
       "      <th>3530</th>\n",
       "      <td>Scarborough-Rouge Park</td>\n",
       "      <td>25</td>\n",
       "      <td>13441958</td>\n",
       "    </tr>\n",
       "    <tr>\n",
       "      <th>3531</th>\n",
       "      <td>Scarborough Southwest</td>\n",
       "      <td>20</td>\n",
       "      <td>13458312</td>\n",
       "    </tr>\n",
       "  </tbody>\n",
       "</table>\n",
       "<p>3935 rows × 3 columns</p>\n",
       "</div>"
      ],
      "text/plain": [
       "                   AREA_NAME  AREA_SHORT_CODE    INT_ID\n",
       "0         Toronto-St. Paul's               12       110\n",
       "1         Parkdale-High Park                4       205\n",
       "2        University-Rosedale               11       214\n",
       "3         Parkdale-High Park                4       208\n",
       "4                 Willowdale               18       115\n",
       "...                      ...              ...       ...\n",
       "3527     University-Rosedale               11  13460349\n",
       "3528   Scarborough Southwest               20  13459088\n",
       "3529   Scarborough Southwest               20  13456297\n",
       "3530  Scarborough-Rouge Park               25  13441958\n",
       "3531   Scarborough Southwest               20  13458312\n",
       "\n",
       "[3935 rows x 3 columns]"
      ]
     },
     "execution_count": 14,
     "metadata": {},
     "output_type": "execute_result"
    }
   ],
   "source": [
    "int_wards"
   ]
  },
  {
   "cell_type": "code",
   "execution_count": 15,
   "metadata": {},
   "outputs": [],
   "source": [
    "int_wards['AREA_SHORT_CODE'] = np.where(int_wards['INT_ID'].isin([13464485]),\n",
    "                    2, int_wards['AREA_SHORT_CODE'])"
   ]
  },
  {
   "cell_type": "code",
   "execution_count": 16,
   "metadata": {},
   "outputs": [],
   "source": [
    "int_wards['AREA_SHORT_CODE'] = np.where(int_wards['INT_ID'].isin([13463579,13449352]),\n",
    "                    1, int_wards['AREA_SHORT_CODE'])"
   ]
  },
  {
   "cell_type": "code",
   "execution_count": 17,
   "metadata": {},
   "outputs": [],
   "source": [
    "int_wards['AREA_SHORT_CODE'] = np.where(int_wards['INT_ID'].isin([13448601,13447821,13446751,13446566,30103926,13446357]),\n",
    "                    7, int_wards['AREA_SHORT_CODE'])"
   ]
  },
  {
   "cell_type": "code",
   "execution_count": 18,
   "metadata": {},
   "outputs": [],
   "source": [
    "int_wards['AREA_SHORT_CODE'] = np.where(int_wards['INT_ID'].isin([13445817,13445306,13444956]),\n",
    "                    6, int_wards['AREA_SHORT_CODE'])"
   ]
  },
  {
   "cell_type": "code",
   "execution_count": 19,
   "metadata": {},
   "outputs": [],
   "source": [
    "int_wards['AREA_SHORT_CODE'] = np.where(int_wards['INT_ID'].isin([13444464,13444337]),\n",
    "                    18, int_wards['AREA_SHORT_CODE'])"
   ]
  },
  {
   "cell_type": "code",
   "execution_count": 20,
   "metadata": {},
   "outputs": [],
   "source": [
    "int_wards['AREA_SHORT_CODE'] = np.where(int_wards['INT_ID'].isin([13442003,13441903]),\n",
    "                    22, int_wards['AREA_SHORT_CODE'])"
   ]
  },
  {
   "cell_type": "code",
   "execution_count": 21,
   "metadata": {},
   "outputs": [],
   "source": [
    "int_wards['AREA_SHORT_CODE'] = np.where(int_wards['INT_ID'].isin([13441706,13441677,13441616]),\n",
    "                    23, int_wards['AREA_SHORT_CODE'])"
   ]
  },
  {
   "cell_type": "code",
   "execution_count": 22,
   "metadata": {},
   "outputs": [],
   "source": [
    "int_wards['AREA_SHORT_CODE'] = int_wards['AREA_SHORT_CODE'].astype(int)"
   ]
  },
  {
   "cell_type": "code",
   "execution_count": 23,
   "metadata": {},
   "outputs": [],
   "source": [
    "int_wards.to_csv('GIS/int_wards.csv', index = False)"
   ]
  },
  {
   "cell_type": "code",
   "execution_count": 24,
   "metadata": {},
   "outputs": [],
   "source": [
    "int_stop[['INT_ID', 'geometry']].merge(int_wards).to_file('GIS/int_wards.geojson', driver = 'GeoJSON')"
   ]
  },
  {
   "cell_type": "code",
   "execution_count": null,
   "metadata": {},
   "outputs": [],
   "source": []
  }
 ],
 "metadata": {
  "kernelspec": {
   "display_name": "Python 3",
   "language": "python",
   "name": "python3"
  },
  "language_info": {
   "codemirror_mode": {
    "name": "ipython",
    "version": 3
   },
   "file_extension": ".py",
   "mimetype": "text/x-python",
   "name": "python",
   "nbconvert_exporter": "python",
   "pygments_lexer": "ipython3",
   "version": "3.7.6"
  }
 },
 "nbformat": 4,
 "nbformat_minor": 4
}
